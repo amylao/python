{
 "cells": [
  {
   "cell_type": "code",
   "execution_count": 1,
   "metadata": {
    "collapsed": false
   },
   "outputs": [],
   "source": [
    "import pandas as pd\n",
    "import numpy as np\n",
    "from collections import Counter\n",
    "import matplotlib.pyplot as plt\n",
    "% matplotlib inline"
   ]
  },
  {
   "cell_type": "code",
   "execution_count": 2,
   "metadata": {
    "collapsed": true
   },
   "outputs": [],
   "source": [
    "from datetime import datetime\n",
    "from dateutil.parser import parse\n",
    "import gc"
   ]
  },
  {
   "cell_type": "markdown",
   "metadata": {},
   "source": [
    "### 注：\n",
    "### df1: cat2_new_smid\n",
    "### df2: new_smid_login\n",
    "### df3: user_view"
   ]
  },
  {
   "cell_type": "code",
   "execution_count": 3,
   "metadata": {
    "collapsed": false,
    "scrolled": true
   },
   "outputs": [
    {
     "data": {
      "text/html": [
       "<div>\n",
       "<table border=\"1\" class=\"dataframe\">\n",
       "  <thead>\n",
       "    <tr style=\"text-align: right;\">\n",
       "      <th></th>\n",
       "      <th>cat_2</th>\n",
       "      <th>smid</th>\n",
       "      <th>create_time</th>\n",
       "      <th>cc</th>\n",
       "      <th>cv</th>\n",
       "      <th>osversion</th>\n",
       "      <th>ymd</th>\n",
       "    </tr>\n",
       "  </thead>\n",
       "  <tbody>\n",
       "    <tr>\n",
       "      <th>0</th>\n",
       "      <td>360</td>\n",
       "      <td>Du0A/ITyKnxrVQaG13lc7l9Pu1JLmfUySx2ku3NX/JeDLT...</td>\n",
       "      <td>2019-01-23 11:28:05</td>\n",
       "      <td>TG36000</td>\n",
       "      <td>7.0.15</td>\n",
       "      <td>8.0.0</td>\n",
       "      <td>20190123.0</td>\n",
       "    </tr>\n",
       "    <tr>\n",
       "      <th>1</th>\n",
       "      <td>360</td>\n",
       "      <td>Du0A/qMpGx0H7EaTrXW6+LpXQf+JUbeUq22i0hxmK0N0Yc...</td>\n",
       "      <td>2018-10-23 15:55:08</td>\n",
       "      <td>TG36000</td>\n",
       "      <td>6.1.80</td>\n",
       "      <td>7.1.1</td>\n",
       "      <td>20181023.0</td>\n",
       "    </tr>\n",
       "    <tr>\n",
       "      <th>2</th>\n",
       "      <td>360</td>\n",
       "      <td>Du0A6Wwvjy8Jwg6kTVFSAB9o3rrAhqrOOAIc8trWqRDLyH...</td>\n",
       "      <td>2018-10-11 15:59:36</td>\n",
       "      <td>TG36000</td>\n",
       "      <td>6.1.75</td>\n",
       "      <td>5.1</td>\n",
       "      <td>20181011.0</td>\n",
       "    </tr>\n",
       "    <tr>\n",
       "      <th>3</th>\n",
       "      <td>360</td>\n",
       "      <td>Du0AB5uv8Cbt0CWYVnr3j91GJESSJicTsgcmbIZ0QMJaoQ...</td>\n",
       "      <td>2018-12-25 11:57:24</td>\n",
       "      <td>TG36000</td>\n",
       "      <td>7.0.01</td>\n",
       "      <td>8.1.0</td>\n",
       "      <td>20181225.0</td>\n",
       "    </tr>\n",
       "    <tr>\n",
       "      <th>4</th>\n",
       "      <td>360</td>\n",
       "      <td>Du0AD9+DJVIfcZpRHDdzrHrwiXmJ7Jjslc2ZlEQfS64sta...</td>\n",
       "      <td>2018-09-29 21:20:33</td>\n",
       "      <td>TG36000</td>\n",
       "      <td>6.1.70</td>\n",
       "      <td>6.0</td>\n",
       "      <td>20180929.0</td>\n",
       "    </tr>\n",
       "  </tbody>\n",
       "</table>\n",
       "</div>"
      ],
      "text/plain": [
       "  cat_2                                               smid  \\\n",
       "0   360  Du0A/ITyKnxrVQaG13lc7l9Pu1JLmfUySx2ku3NX/JeDLT...   \n",
       "1   360  Du0A/qMpGx0H7EaTrXW6+LpXQf+JUbeUq22i0hxmK0N0Yc...   \n",
       "2   360  Du0A6Wwvjy8Jwg6kTVFSAB9o3rrAhqrOOAIc8trWqRDLyH...   \n",
       "3   360  Du0AB5uv8Cbt0CWYVnr3j91GJESSJicTsgcmbIZ0QMJaoQ...   \n",
       "4   360  Du0AD9+DJVIfcZpRHDdzrHrwiXmJ7Jjslc2ZlEQfS64sta...   \n",
       "\n",
       "           create_time       cc      cv osversion         ymd  \n",
       "0  2019-01-23 11:28:05  TG36000  7.0.15     8.0.0  20190123.0  \n",
       "1  2018-10-23 15:55:08  TG36000  6.1.80     7.1.1  20181023.0  \n",
       "2  2018-10-11 15:59:36  TG36000  6.1.75       5.1  20181011.0  \n",
       "3  2018-12-25 11:57:24  TG36000  7.0.01     8.1.0  20181225.0  \n",
       "4  2018-09-29 21:20:33  TG36000  6.1.70       6.0  20180929.0  "
      ]
     },
     "execution_count": 3,
     "metadata": {},
     "output_type": "execute_result"
    }
   ],
   "source": [
    "df1 = pd.read_csv(\"~/inke/temp/cat2_new_smid.txt\",sep='\\t',\n",
    "                  usecols = ['cat_2','smid','ymd','cc','cv','osversion','create_time']).iloc[:-2,:]\n",
    "df1.head()"
   ]
  },
  {
   "cell_type": "code",
   "execution_count": null,
   "metadata": {
    "collapsed": true
   },
   "outputs": [],
   "source": [
    "df1['ymd'] = df1['ymd'].astype('int')"
   ]
  },
  {
   "cell_type": "code",
   "execution_count": 18,
   "metadata": {
    "collapsed": false,
    "scrolled": true
   },
   "outputs": [
    {
     "name": "stderr",
     "output_type": "stream",
     "text": [
      "/home/liuyiming/anaconda3/install/lib/python3.5/site-packages/IPython/core/interactiveshell.py:2717: DtypeWarning: Columns (2,34,13,17,24) have mixed types. Specify dtype option on import or set low_memory=False.\n",
      "  interactivity=interactivity, compiler=compiler, result=result)\n"
     ]
    },
    {
     "data": {
      "text/html": [
       "<div>\n",
       "<table border=\"1\" class=\"dataframe\">\n",
       "  <thead>\n",
       "    <tr style=\"text-align: right;\">\n",
       "      <th></th>\n",
       "      <th>cat_2</th>\n",
       "      <th>smid</th>\n",
       "      <th>log_ymd</th>\n",
       "      <th>c.cc</th>\n",
       "      <th>c.conn</th>\n",
       "      <th>c.jb</th>\n",
       "      <th>c.latitude</th>\n",
       "      <th>c.longitude</th>\n",
       "      <th>c.md_einfo</th>\n",
       "      <th>c.md_logid</th>\n",
       "      <th>c.md_mod</th>\n",
       "      <th>c.md_path</th>\n",
       "      <th>c.osversion</th>\n",
       "      <th>c.smid</th>\n",
       "      <th>c.uid</th>\n",
       "      <th>c.seq</th>\n",
       "      <th>c.info_enter</th>\n",
       "      <th>c.ymd</th>\n",
       "    </tr>\n",
       "  </thead>\n",
       "  <tbody>\n",
       "    <tr>\n",
       "      <th>0</th>\n",
       "      <td>VIVO</td>\n",
       "      <td>Du0AyY//DwEpDnil3Ygjr57jXgHtJqOunAblQO0E3BvMZD...</td>\n",
       "      <td>20180920</td>\n",
       "      <td>TG36062</td>\n",
       "      <td>wifi</td>\n",
       "      <td>NaN</td>\n",
       "      <td>NaN</td>\n",
       "      <td>NaN</td>\n",
       "      <td>{\"enter\":\"HALL_DISCOVER\",\"get\":\"resp\",\"layout\"...</td>\n",
       "      <td>259,264,281,282,285,229,236</td>\n",
       "      <td>1.0</td>\n",
       "      <td>NaN</td>\n",
       "      <td>android_21</td>\n",
       "      <td>Du0AyY//DwEpDnil3Ygjr57jXgHtJqOunAblQO0E3BvMZD...</td>\n",
       "      <td>2011994203</td>\n",
       "      <td>93.0</td>\n",
       "      <td>HALL_DISCOVER</td>\n",
       "      <td>20180920.0</td>\n",
       "    </tr>\n",
       "    <tr>\n",
       "      <th>1</th>\n",
       "      <td>VIVO</td>\n",
       "      <td>Du0AyY//DwEpDnil3Ygjr57jXgHtJqOunAblQO0E3BvMZD...</td>\n",
       "      <td>20180920</td>\n",
       "      <td>TG36062</td>\n",
       "      <td>wifi</td>\n",
       "      <td>NaN</td>\n",
       "      <td>NaN</td>\n",
       "      <td>NaN</td>\n",
       "      <td>{\"enter\":\"FIRST_IN\",\"get\":\"resp\",\"layout\":\"\"}</td>\n",
       "      <td>259,264,281,282,285,229,236</td>\n",
       "      <td>1.0</td>\n",
       "      <td>NaN</td>\n",
       "      <td>android_21</td>\n",
       "      <td>Du0AyY//DwEpDnil3Ygjr57jXgHtJqOunAblQO0E3BvMZD...</td>\n",
       "      <td>2011994203</td>\n",
       "      <td>15.0</td>\n",
       "      <td>FIRST_IN</td>\n",
       "      <td>20180920.0</td>\n",
       "    </tr>\n",
       "    <tr>\n",
       "      <th>2</th>\n",
       "      <td>VIVO</td>\n",
       "      <td>Du0AyY//DwEpDnil3Ygjr57jXgHtJqOunAblQO0E3BvMZD...</td>\n",
       "      <td>20180920</td>\n",
       "      <td>TG36062</td>\n",
       "      <td>wifi</td>\n",
       "      <td>NaN</td>\n",
       "      <td>NaN</td>\n",
       "      <td>NaN</td>\n",
       "      <td>{\"enter\":\"HALL_DISCOVER\",\"get\":\"resp\",\"layout\"...</td>\n",
       "      <td>259,264,281,282,285,229,236</td>\n",
       "      <td>1.0</td>\n",
       "      <td>NaN</td>\n",
       "      <td>android_21</td>\n",
       "      <td>Du0AyY//DwEpDnil3Ygjr57jXgHtJqOunAblQO0E3BvMZD...</td>\n",
       "      <td>2011994203</td>\n",
       "      <td>96.0</td>\n",
       "      <td>HALL_DISCOVER</td>\n",
       "      <td>20180920.0</td>\n",
       "    </tr>\n",
       "    <tr>\n",
       "      <th>3</th>\n",
       "      <td>VIVO</td>\n",
       "      <td>Du0B+1fWIAQGrmhi6ocWt/kBTUo2H0fJPpVPOie7vTLPbp...</td>\n",
       "      <td>20190101</td>\n",
       "      <td>TG36062</td>\n",
       "      <td>4G</td>\n",
       "      <td>NaN</td>\n",
       "      <td>NaN</td>\n",
       "      <td>NaN</td>\n",
       "      <td>{\"enter\":\"FIRST_IN\",\"type\":\"resp\"}</td>\n",
       "      <td>10001,10208,30001</td>\n",
       "      <td>1.0</td>\n",
       "      <td>NaN</td>\n",
       "      <td>android_21</td>\n",
       "      <td>Du0B+1fWIAQGrmhi6ocWt/kBTUo2H0fJPpVPOie7vTLPbp...</td>\n",
       "      <td>0</td>\n",
       "      <td>12.0</td>\n",
       "      <td>FIRST_IN</td>\n",
       "      <td>20190101.0</td>\n",
       "    </tr>\n",
       "    <tr>\n",
       "      <th>4</th>\n",
       "      <td>百度手机助手</td>\n",
       "      <td>Du0C3nxIvXaV2P8OZUIfe4rAUdB1GztxOLz7vNupwkorQy...</td>\n",
       "      <td>20181129</td>\n",
       "      <td>TG36002</td>\n",
       "      <td>4G</td>\n",
       "      <td>NaN</td>\n",
       "      <td>NaN</td>\n",
       "      <td>NaN</td>\n",
       "      <td>{\"enter\":\"FIRST_IN\",\"type\":\"resp\"}</td>\n",
       "      <td>10001,10208,30001</td>\n",
       "      <td>1.0</td>\n",
       "      <td>NaN</td>\n",
       "      <td>android_27</td>\n",
       "      <td>Du0C3nxIvXaV2P8OZUIfe4rAUdB1GztxOLz7vNupwkorQy...</td>\n",
       "      <td>0</td>\n",
       "      <td>11.0</td>\n",
       "      <td>FIRST_IN</td>\n",
       "      <td>20181129.0</td>\n",
       "    </tr>\n",
       "  </tbody>\n",
       "</table>\n",
       "</div>"
      ],
      "text/plain": [
       "    cat_2                                               smid   log_ymd  \\\n",
       "0    VIVO  Du0AyY//DwEpDnil3Ygjr57jXgHtJqOunAblQO0E3BvMZD...  20180920   \n",
       "1    VIVO  Du0AyY//DwEpDnil3Ygjr57jXgHtJqOunAblQO0E3BvMZD...  20180920   \n",
       "2    VIVO  Du0AyY//DwEpDnil3Ygjr57jXgHtJqOunAblQO0E3BvMZD...  20180920   \n",
       "3    VIVO  Du0B+1fWIAQGrmhi6ocWt/kBTUo2H0fJPpVPOie7vTLPbp...  20190101   \n",
       "4  百度手机助手  Du0C3nxIvXaV2P8OZUIfe4rAUdB1GztxOLz7vNupwkorQy...  20181129   \n",
       "\n",
       "      c.cc c.conn c.jb  c.latitude c.longitude  \\\n",
       "0  TG36062   wifi  NaN         NaN         NaN   \n",
       "1  TG36062   wifi  NaN         NaN         NaN   \n",
       "2  TG36062   wifi  NaN         NaN         NaN   \n",
       "3  TG36062     4G  NaN         NaN         NaN   \n",
       "4  TG36002     4G  NaN         NaN         NaN   \n",
       "\n",
       "                                          c.md_einfo  \\\n",
       "0  {\"enter\":\"HALL_DISCOVER\",\"get\":\"resp\",\"layout\"...   \n",
       "1      {\"enter\":\"FIRST_IN\",\"get\":\"resp\",\"layout\":\"\"}   \n",
       "2  {\"enter\":\"HALL_DISCOVER\",\"get\":\"resp\",\"layout\"...   \n",
       "3                 {\"enter\":\"FIRST_IN\",\"type\":\"resp\"}   \n",
       "4                 {\"enter\":\"FIRST_IN\",\"type\":\"resp\"}   \n",
       "\n",
       "                    c.md_logid  c.md_mod c.md_path c.osversion  \\\n",
       "0  259,264,281,282,285,229,236       1.0       NaN  android_21   \n",
       "1  259,264,281,282,285,229,236       1.0       NaN  android_21   \n",
       "2  259,264,281,282,285,229,236       1.0       NaN  android_21   \n",
       "3            10001,10208,30001       1.0       NaN  android_21   \n",
       "4            10001,10208,30001       1.0       NaN  android_27   \n",
       "\n",
       "                                              c.smid       c.uid  c.seq  \\\n",
       "0  Du0AyY//DwEpDnil3Ygjr57jXgHtJqOunAblQO0E3BvMZD...  2011994203   93.0   \n",
       "1  Du0AyY//DwEpDnil3Ygjr57jXgHtJqOunAblQO0E3BvMZD...  2011994203   15.0   \n",
       "2  Du0AyY//DwEpDnil3Ygjr57jXgHtJqOunAblQO0E3BvMZD...  2011994203   96.0   \n",
       "3  Du0B+1fWIAQGrmhi6ocWt/kBTUo2H0fJPpVPOie7vTLPbp...           0   12.0   \n",
       "4  Du0C3nxIvXaV2P8OZUIfe4rAUdB1GztxOLz7vNupwkorQy...           0   11.0   \n",
       "\n",
       "    c.info_enter       c.ymd  \n",
       "0  HALL_DISCOVER  20180920.0  \n",
       "1       FIRST_IN  20180920.0  \n",
       "2  HALL_DISCOVER  20180920.0  \n",
       "3       FIRST_IN  20190101.0  \n",
       "4       FIRST_IN  20181129.0  "
      ]
     },
     "execution_count": 18,
     "metadata": {},
     "output_type": "execute_result"
    }
   ],
   "source": [
    "usecols = ['cat_2','log_smid','log_ymd','c.cc','c.conn','c.md_einfo','c.md_logid',\n",
    "           'c.md_mod','c.uid','c.smid','c.seq','c.info_enter','c.ymd']\n",
    "df2 = pd.read_csv(\"~/inke/temp/new_smid_login.txt\",sep='\\t',usecols = usecols).iloc[:-2,:]\n",
    "df2.rename(columns={\"log_smid\":\"smid\"},inplace = True)\n",
    "gc.collect()\n",
    "df2.head()"
   ]
  },
  {
   "cell_type": "code",
   "execution_count": null,
   "metadata": {
    "collapsed": false,
    "scrolled": true
   },
   "outputs": [],
   "source": [
    "df2['ymd'] = df2['log_ymd'].astype('int')"
   ]
  },
  {
   "cell_type": "code",
   "execution_count": 19,
   "metadata": {
    "collapsed": false
   },
   "outputs": [
    {
     "data": {
      "text/html": [
       "<div>\n",
       "<table border=\"1\" class=\"dataframe\">\n",
       "  <thead>\n",
       "    <tr style=\"text-align: right;\">\n",
       "      <th></th>\n",
       "      <th>cat_2_x</th>\n",
       "      <th>smid</th>\n",
       "      <th>create_time</th>\n",
       "      <th>client</th>\n",
       "      <th>package_name</th>\n",
       "      <th>cc</th>\n",
       "      <th>cv</th>\n",
       "      <th>ip</th>\n",
       "      <th>osversion</th>\n",
       "      <th>info_extra</th>\n",
       "      <th>...</th>\n",
       "      <th>c.md_einfo</th>\n",
       "      <th>c.md_logid</th>\n",
       "      <th>c.md_mod</th>\n",
       "      <th>c.md_path</th>\n",
       "      <th>c.osversion</th>\n",
       "      <th>c.smid</th>\n",
       "      <th>c.uid</th>\n",
       "      <th>c.seq</th>\n",
       "      <th>c.info_enter</th>\n",
       "      <th>c.ymd</th>\n",
       "    </tr>\n",
       "  </thead>\n",
       "  <tbody>\n",
       "    <tr>\n",
       "      <th>0</th>\n",
       "      <td>360</td>\n",
       "      <td>Du0A/ITyKnxrVQaG13lc7l9Pu1JLmfUySx2ku3NX/JeDLT...</td>\n",
       "      <td>2019-01-23 11:28:05</td>\n",
       "      <td>android</td>\n",
       "      <td>com.meelive.ingkee</td>\n",
       "      <td>TG36000</td>\n",
       "      <td>7.0.15</td>\n",
       "      <td>1.86.57.83</td>\n",
       "      <td>8.0.0</td>\n",
       "      <td>{\"app_sign\":\"308203c7308202afa00302010202046aa...</td>\n",
       "      <td>...</td>\n",
       "      <td>{\"enter\":\"FIRST_IN\",\"type\":\"resp\"}</td>\n",
       "      <td>10001,10208,30205,40202,50208,60202</td>\n",
       "      <td>1.0</td>\n",
       "      <td>NaN</td>\n",
       "      <td>android_26</td>\n",
       "      <td>Du0A/ITyKnxrVQaG13lc7l9Pu1JLmfUySx2ku3NX/JeDLT...</td>\n",
       "      <td>0</td>\n",
       "      <td>17.0</td>\n",
       "      <td>FIRST_IN</td>\n",
       "      <td>20190123.0</td>\n",
       "    </tr>\n",
       "    <tr>\n",
       "      <th>1</th>\n",
       "      <td>360</td>\n",
       "      <td>Du0A/qMpGx0H7EaTrXW6+LpXQf+JUbeUq22i0hxmK0N0Yc...</td>\n",
       "      <td>2018-10-23 15:55:08</td>\n",
       "      <td>android</td>\n",
       "      <td>com.meelive.ingkee</td>\n",
       "      <td>TG36000</td>\n",
       "      <td>6.1.80</td>\n",
       "      <td>223.149.248.176</td>\n",
       "      <td>7.1.1</td>\n",
       "      <td>{\"app_sign\":\"308203c7308202afa00302010202046aa...</td>\n",
       "      <td>...</td>\n",
       "      <td>{\"enter\":\"FIRST_IN\",\"get\":\"resp\",\"layout\":\"\"}</td>\n",
       "      <td>NaN</td>\n",
       "      <td>1.0</td>\n",
       "      <td>NaN</td>\n",
       "      <td>android_25</td>\n",
       "      <td>Du0A/qMpGx0H7EaTrXW6+LpXQf+JUbeUq22i0hxmK0N0Yc...</td>\n",
       "      <td>2015567381</td>\n",
       "      <td>9.0</td>\n",
       "      <td>FIRST_IN</td>\n",
       "      <td>20181023.0</td>\n",
       "    </tr>\n",
       "    <tr>\n",
       "      <th>2</th>\n",
       "      <td>360</td>\n",
       "      <td>Du0A6Wwvjy8Jwg6kTVFSAB9o3rrAhqrOOAIc8trWqRDLyH...</td>\n",
       "      <td>2018-10-11 15:59:36</td>\n",
       "      <td>android</td>\n",
       "      <td>com.meelive.ingkee</td>\n",
       "      <td>TG36000</td>\n",
       "      <td>6.1.75</td>\n",
       "      <td>112.40.114.44</td>\n",
       "      <td>5.1</td>\n",
       "      <td>{\"app_sign\":\"308203c7308202afa00302010202046aa...</td>\n",
       "      <td>...</td>\n",
       "      <td>NaN</td>\n",
       "      <td>NaN</td>\n",
       "      <td>NaN</td>\n",
       "      <td>NaN</td>\n",
       "      <td>NaN</td>\n",
       "      <td>NaN</td>\n",
       "      <td>NaN</td>\n",
       "      <td>NaN</td>\n",
       "      <td>NaN</td>\n",
       "      <td>NaN</td>\n",
       "    </tr>\n",
       "    <tr>\n",
       "      <th>3</th>\n",
       "      <td>360</td>\n",
       "      <td>Du0AB5uv8Cbt0CWYVnr3j91GJESSJicTsgcmbIZ0QMJaoQ...</td>\n",
       "      <td>2018-12-25 11:57:24</td>\n",
       "      <td>android</td>\n",
       "      <td>com.meelive.ingkee</td>\n",
       "      <td>TG36000</td>\n",
       "      <td>7.0.01</td>\n",
       "      <td>36.61.182.136</td>\n",
       "      <td>8.1.0</td>\n",
       "      <td>{\"app_sign\":\"308203c7308202afa00302010202046aa...</td>\n",
       "      <td>...</td>\n",
       "      <td>{\"enter\":\"FIRST_IN\",\"type\":\"resp\"}</td>\n",
       "      <td>10001,10208,30001</td>\n",
       "      <td>1.0</td>\n",
       "      <td>NaN</td>\n",
       "      <td>android_27</td>\n",
       "      <td>Du0AB5uv8Cbt0CWYVnr3j91GJESSJicTsgcmbIZ0QMJaoQ...</td>\n",
       "      <td>0</td>\n",
       "      <td>10.0</td>\n",
       "      <td>FIRST_IN</td>\n",
       "      <td>20181225.0</td>\n",
       "    </tr>\n",
       "    <tr>\n",
       "      <th>4</th>\n",
       "      <td>360</td>\n",
       "      <td>Du0AD9+DJVIfcZpRHDdzrHrwiXmJ7Jjslc2ZlEQfS64sta...</td>\n",
       "      <td>2018-09-29 21:20:33</td>\n",
       "      <td>android</td>\n",
       "      <td>com.meelive.ingkee</td>\n",
       "      <td>TG36000</td>\n",
       "      <td>6.1.70</td>\n",
       "      <td>218.201.238.28</td>\n",
       "      <td>6.0</td>\n",
       "      <td>{\"app_sign\":\"308203c7308202afa00302010202046aa...</td>\n",
       "      <td>...</td>\n",
       "      <td>NaN</td>\n",
       "      <td>NaN</td>\n",
       "      <td>NaN</td>\n",
       "      <td>NaN</td>\n",
       "      <td>NaN</td>\n",
       "      <td>NaN</td>\n",
       "      <td>NaN</td>\n",
       "      <td>NaN</td>\n",
       "      <td>NaN</td>\n",
       "      <td>NaN</td>\n",
       "    </tr>\n",
       "  </tbody>\n",
       "</table>\n",
       "<p>5 rows × 28 columns</p>\n",
       "</div>"
      ],
      "text/plain": [
       "  cat_2_x                                               smid  \\\n",
       "0     360  Du0A/ITyKnxrVQaG13lc7l9Pu1JLmfUySx2ku3NX/JeDLT...   \n",
       "1     360  Du0A/qMpGx0H7EaTrXW6+LpXQf+JUbeUq22i0hxmK0N0Yc...   \n",
       "2     360  Du0A6Wwvjy8Jwg6kTVFSAB9o3rrAhqrOOAIc8trWqRDLyH...   \n",
       "3     360  Du0AB5uv8Cbt0CWYVnr3j91GJESSJicTsgcmbIZ0QMJaoQ...   \n",
       "4     360  Du0AD9+DJVIfcZpRHDdzrHrwiXmJ7Jjslc2ZlEQfS64sta...   \n",
       "\n",
       "           create_time   client        package_name       cc      cv  \\\n",
       "0  2019-01-23 11:28:05  android  com.meelive.ingkee  TG36000  7.0.15   \n",
       "1  2018-10-23 15:55:08  android  com.meelive.ingkee  TG36000  6.1.80   \n",
       "2  2018-10-11 15:59:36  android  com.meelive.ingkee  TG36000  6.1.75   \n",
       "3  2018-12-25 11:57:24  android  com.meelive.ingkee  TG36000  7.0.01   \n",
       "4  2018-09-29 21:20:33  android  com.meelive.ingkee  TG36000  6.1.70   \n",
       "\n",
       "                ip osversion  \\\n",
       "0       1.86.57.83     8.0.0   \n",
       "1  223.149.248.176     7.1.1   \n",
       "2    112.40.114.44       5.1   \n",
       "3    36.61.182.136     8.1.0   \n",
       "4   218.201.238.28       6.0   \n",
       "\n",
       "                                          info_extra     ...      \\\n",
       "0  {\"app_sign\":\"308203c7308202afa00302010202046aa...     ...       \n",
       "1  {\"app_sign\":\"308203c7308202afa00302010202046aa...     ...       \n",
       "2  {\"app_sign\":\"308203c7308202afa00302010202046aa...     ...       \n",
       "3  {\"app_sign\":\"308203c7308202afa00302010202046aa...     ...       \n",
       "4  {\"app_sign\":\"308203c7308202afa00302010202046aa...     ...       \n",
       "\n",
       "                                      c.md_einfo  \\\n",
       "0             {\"enter\":\"FIRST_IN\",\"type\":\"resp\"}   \n",
       "1  {\"enter\":\"FIRST_IN\",\"get\":\"resp\",\"layout\":\"\"}   \n",
       "2                                            NaN   \n",
       "3             {\"enter\":\"FIRST_IN\",\"type\":\"resp\"}   \n",
       "4                                            NaN   \n",
       "\n",
       "                            c.md_logid c.md_mod c.md_path c.osversion  \\\n",
       "0  10001,10208,30205,40202,50208,60202      1.0       NaN  android_26   \n",
       "1                                  NaN      1.0       NaN  android_25   \n",
       "2                                  NaN      NaN       NaN         NaN   \n",
       "3                    10001,10208,30001      1.0       NaN  android_27   \n",
       "4                                  NaN      NaN       NaN         NaN   \n",
       "\n",
       "                                              c.smid       c.uid c.seq  \\\n",
       "0  Du0A/ITyKnxrVQaG13lc7l9Pu1JLmfUySx2ku3NX/JeDLT...           0  17.0   \n",
       "1  Du0A/qMpGx0H7EaTrXW6+LpXQf+JUbeUq22i0hxmK0N0Yc...  2015567381   9.0   \n",
       "2                                                NaN         NaN   NaN   \n",
       "3  Du0AB5uv8Cbt0CWYVnr3j91GJESSJicTsgcmbIZ0QMJaoQ...           0  10.0   \n",
       "4                                                NaN         NaN   NaN   \n",
       "\n",
       "  c.info_enter       c.ymd  \n",
       "0     FIRST_IN  20190123.0  \n",
       "1     FIRST_IN  20181023.0  \n",
       "2          NaN         NaN  \n",
       "3     FIRST_IN  20181225.0  \n",
       "4          NaN         NaN  \n",
       "\n",
       "[5 rows x 28 columns]"
      ]
     },
     "execution_count": 19,
     "metadata": {},
     "output_type": "execute_result"
    }
   ],
   "source": [
    "# cat2_new_smid 与 log 左连，将有注册页曝光和无注册页曝光的分成两组\n",
    "df_log_raw = pd.merge(df1, df2, how = 'left', on = 'smid')\n",
    "df_log = df_log_raw[df_log_raw['cat_2_x'] == or(['360','OPPO','VIVO','百度手机助手','阿里分发','应用宝'])]\n",
    "df_log1 = df_log[df_log['c.smid'].notnull()]\n",
    "df_log0 = df_log[df_log['c.smid'].isnull()]\n",
    "df_log.head()"
   ]
  },
  {
   "cell_type": "code",
   "execution_count": 30,
   "metadata": {
    "collapsed": false
   },
   "outputs": [
    {
     "name": "stdout",
     "output_type": "stream",
     "text": [
      "5688453 1059132\n",
      "Index(['cat_2_x', 'smid', 'create_time', 'client', 'package_name', 'cc', 'cv',\n",
      "       'ip', 'osversion', 'info_extra', 'ymd', 'cat_2_y', 'log_ymd', 'c.aid',\n",
      "       'c.cc', 'c.client_ip', 'c.conn', 'c.cv', 'c.devi', 'c.idfa', 'c.idfv',\n",
      "       'c.imei', 'c.imsi', 'c.jb', 'c.latitude', 'c.lc', 'c.logid',\n",
      "       'c.longitude', 'c.md_chk', 'c.md_eid', 'c.md_einfo', 'c.md_etime',\n",
      "       'c.md_logid', 'c.md_mod', 'c.md_path', 'c.md_session', 'c.md_userid',\n",
      "       'c.mtid', 'c.mtxid', 'c.osversion', 'c.proto', 'c.record_time',\n",
      "       'c.smid', 'c.ua', 'c.uid', 'c.ndid', 'c.seq', 'c.info_enter', 'c.ymd'],\n",
      "      dtype='object')\n"
     ]
    }
   ],
   "source": [
    "print(len(df_log1),len(df_log0))\n",
    "print(df_log0.columns)"
   ]
  },
  {
   "cell_type": "code",
   "execution_count": null,
   "metadata": {
    "collapsed": true
   },
   "outputs": [],
   "source": [
    "df_log"
   ]
  },
  {
   "cell_type": "code",
   "execution_count": null,
   "metadata": {
    "collapsed": true
   },
   "outputs": [],
   "source": []
  },
  {
   "cell_type": "code",
   "execution_count": null,
   "metadata": {
    "collapsed": true
   },
   "outputs": [],
   "source": []
  },
  {
   "cell_type": "code",
   "execution_count": null,
   "metadata": {
    "collapsed": true
   },
   "outputs": [],
   "source": []
  },
  {
   "cell_type": "code",
   "execution_count": null,
   "metadata": {
    "collapsed": true
   },
   "outputs": [],
   "source": []
  },
  {
   "cell_type": "code",
   "execution_count": null,
   "metadata": {
    "collapsed": true
   },
   "outputs": [],
   "source": []
  },
  {
   "cell_type": "code",
   "execution_count": null,
   "metadata": {
    "collapsed": true
   },
   "outputs": [],
   "source": []
  },
  {
   "cell_type": "code",
   "execution_count": null,
   "metadata": {
    "collapsed": true
   },
   "outputs": [],
   "source": []
  },
  {
   "cell_type": "code",
   "execution_count": null,
   "metadata": {
    "collapsed": true
   },
   "outputs": [],
   "source": []
  },
  {
   "cell_type": "code",
   "execution_count": null,
   "metadata": {
    "collapsed": true
   },
   "outputs": [],
   "source": []
  },
  {
   "cell_type": "code",
   "execution_count": 6,
   "metadata": {
    "collapsed": false,
    "scrolled": true
   },
   "outputs": [
    {
     "name": "stderr",
     "output_type": "stream",
     "text": [
      "/home/liuyiming/anaconda3/install/lib/python3.5/site-packages/IPython/core/interactiveshell.py:2717: DtypeWarning: Columns (0) have mixed types. Specify dtype option on import or set low_memory=False.\n",
      "  interactivity=interactivity, compiler=compiler, result=result)\n"
     ]
    },
    {
     "data": {
      "text/html": [
       "<div>\n",
       "<table border=\"1\" class=\"dataframe\">\n",
       "  <thead>\n",
       "    <tr style=\"text-align: right;\">\n",
       "      <th></th>\n",
       "      <th>ymd</th>\n",
       "      <th>cat2</th>\n",
       "      <th>new_smid</th>\n",
       "      <th>reg_smid</th>\n",
       "      <th>rec_simd</th>\n",
       "      <th>view_smid</th>\n",
       "      <th>act_view_smid</th>\n",
       "    </tr>\n",
       "  </thead>\n",
       "  <tbody>\n",
       "    <tr>\n",
       "      <th>0</th>\n",
       "      <td>20190101</td>\n",
       "      <td>VIVO</td>\n",
       "      <td>Du0B+1fWIAQGrmhi6ocWt/kBTUo2H0fJPpVPOie7vTLPbp...</td>\n",
       "      <td>Du0B+1fWIAQGrmhi6ocWt/kBTUo2H0fJPpVPOie7vTLPbp...</td>\n",
       "      <td>Du0B+1fWIAQGrmhi6ocWt/kBTUo2H0fJPpVPOie7vTLPbp...</td>\n",
       "      <td>Du0B+1fWIAQGrmhi6ocWt/kBTUo2H0fJPpVPOie7vTLPbp...</td>\n",
       "      <td>Du0B+1fWIAQGrmhi6ocWt/kBTUo2H0fJPpVPOie7vTLPbp...</td>\n",
       "    </tr>\n",
       "    <tr>\n",
       "      <th>1</th>\n",
       "      <td>20181106</td>\n",
       "      <td>小米</td>\n",
       "      <td>Du0FT8OpE4NB3AyMRTWptkM9RUTDAeK53fvDK10LyYoLwv...</td>\n",
       "      <td>Du0FT8OpE4NB3AyMRTWptkM9RUTDAeK53fvDK10LyYoLwv...</td>\n",
       "      <td>Du0FT8OpE4NB3AyMRTWptkM9RUTDAeK53fvDK10LyYoLwv...</td>\n",
       "      <td>NaN</td>\n",
       "      <td>NaN</td>\n",
       "    </tr>\n",
       "    <tr>\n",
       "      <th>2</th>\n",
       "      <td>20180910</td>\n",
       "      <td>OPPO</td>\n",
       "      <td>Du0SE9yPoENLiR9+GDruaFExQu9mOX159mtZXzAugMFdw1...</td>\n",
       "      <td>NaN</td>\n",
       "      <td>NaN</td>\n",
       "      <td>NaN</td>\n",
       "      <td>NaN</td>\n",
       "    </tr>\n",
       "    <tr>\n",
       "      <th>3</th>\n",
       "      <td>20190108</td>\n",
       "      <td>VIVO</td>\n",
       "      <td>Du0WiFY0kotVuXuwXi3jrE3JxqRg9gJuHqSYVnkMb8nrOy...</td>\n",
       "      <td>Du0WiFY0kotVuXuwXi3jrE3JxqRg9gJuHqSYVnkMb8nrOy...</td>\n",
       "      <td>Du0WiFY0kotVuXuwXi3jrE3JxqRg9gJuHqSYVnkMb8nrOy...</td>\n",
       "      <td>Du0WiFY0kotVuXuwXi3jrE3JxqRg9gJuHqSYVnkMb8nrOy...</td>\n",
       "      <td>Du0WiFY0kotVuXuwXi3jrE3JxqRg9gJuHqSYVnkMb8nrOy...</td>\n",
       "    </tr>\n",
       "    <tr>\n",
       "      <th>4</th>\n",
       "      <td>20181030</td>\n",
       "      <td>VIVO</td>\n",
       "      <td>DuA2q+gfmItLUk0JpaynwpC2cNLY4xgvB1N4uwYCM4pl0D...</td>\n",
       "      <td>DuA2q+gfmItLUk0JpaynwpC2cNLY4xgvB1N4uwYCM4pl0D...</td>\n",
       "      <td>DuA2q+gfmItLUk0JpaynwpC2cNLY4xgvB1N4uwYCM4pl0D...</td>\n",
       "      <td>DuA2q+gfmItLUk0JpaynwpC2cNLY4xgvB1N4uwYCM4pl0D...</td>\n",
       "      <td>DuA2q+gfmItLUk0JpaynwpC2cNLY4xgvB1N4uwYCM4pl0D...</td>\n",
       "    </tr>\n",
       "  </tbody>\n",
       "</table>\n",
       "</div>"
      ],
      "text/plain": [
       "        ymd  cat2                                           new_smid  \\\n",
       "0  20190101  VIVO  Du0B+1fWIAQGrmhi6ocWt/kBTUo2H0fJPpVPOie7vTLPbp...   \n",
       "1  20181106    小米  Du0FT8OpE4NB3AyMRTWptkM9RUTDAeK53fvDK10LyYoLwv...   \n",
       "2  20180910  OPPO  Du0SE9yPoENLiR9+GDruaFExQu9mOX159mtZXzAugMFdw1...   \n",
       "3  20190108  VIVO  Du0WiFY0kotVuXuwXi3jrE3JxqRg9gJuHqSYVnkMb8nrOy...   \n",
       "4  20181030  VIVO  DuA2q+gfmItLUk0JpaynwpC2cNLY4xgvB1N4uwYCM4pl0D...   \n",
       "\n",
       "                                            reg_smid  \\\n",
       "0  Du0B+1fWIAQGrmhi6ocWt/kBTUo2H0fJPpVPOie7vTLPbp...   \n",
       "1  Du0FT8OpE4NB3AyMRTWptkM9RUTDAeK53fvDK10LyYoLwv...   \n",
       "2                                                NaN   \n",
       "3  Du0WiFY0kotVuXuwXi3jrE3JxqRg9gJuHqSYVnkMb8nrOy...   \n",
       "4  DuA2q+gfmItLUk0JpaynwpC2cNLY4xgvB1N4uwYCM4pl0D...   \n",
       "\n",
       "                                            rec_simd  \\\n",
       "0  Du0B+1fWIAQGrmhi6ocWt/kBTUo2H0fJPpVPOie7vTLPbp...   \n",
       "1  Du0FT8OpE4NB3AyMRTWptkM9RUTDAeK53fvDK10LyYoLwv...   \n",
       "2                                                NaN   \n",
       "3  Du0WiFY0kotVuXuwXi3jrE3JxqRg9gJuHqSYVnkMb8nrOy...   \n",
       "4  DuA2q+gfmItLUk0JpaynwpC2cNLY4xgvB1N4uwYCM4pl0D...   \n",
       "\n",
       "                                           view_smid  \\\n",
       "0  Du0B+1fWIAQGrmhi6ocWt/kBTUo2H0fJPpVPOie7vTLPbp...   \n",
       "1                                                NaN   \n",
       "2                                                NaN   \n",
       "3  Du0WiFY0kotVuXuwXi3jrE3JxqRg9gJuHqSYVnkMb8nrOy...   \n",
       "4  DuA2q+gfmItLUk0JpaynwpC2cNLY4xgvB1N4uwYCM4pl0D...   \n",
       "\n",
       "                                       act_view_smid  \n",
       "0  Du0B+1fWIAQGrmhi6ocWt/kBTUo2H0fJPpVPOie7vTLPbp...  \n",
       "1                                                NaN  \n",
       "2                                                NaN  \n",
       "3  Du0WiFY0kotVuXuwXi3jrE3JxqRg9gJuHqSYVnkMb8nrOy...  \n",
       "4  DuA2q+gfmItLUk0JpaynwpC2cNLY4xgvB1N4uwYCM4pl0D...  "
      ]
     },
     "execution_count": 6,
     "metadata": {},
     "output_type": "execute_result"
    }
   ],
   "source": [
    "df3 = pd.read_csv(\"~/inke/temp/user_view2.txt\",sep=',').iloc[:-2,:]\n",
    "df3.head()"
   ]
  },
  {
   "cell_type": "code",
   "execution_count": 8,
   "metadata": {
    "collapsed": false
   },
   "outputs": [],
   "source": [
    "df3['ymd'] = df3['ymd'].astype('str')"
   ]
  },
  {
   "cell_type": "code",
   "execution_count": 26,
   "metadata": {
    "collapsed": false
   },
   "outputs": [
    {
     "data": {
      "text/html": [
       "<div>\n",
       "<table border=\"1\" class=\"dataframe\">\n",
       "  <thead>\n",
       "    <tr style=\"text-align: right;\">\n",
       "      <th></th>\n",
       "      <th>cat2</th>\n",
       "      <th>ymd</th>\n",
       "      <th>new_smid</th>\n",
       "      <th>reg_smid</th>\n",
       "      <th>rec_smid</th>\n",
       "      <th>view_smid</th>\n",
       "      <th>act_view_smid</th>\n",
       "    </tr>\n",
       "  </thead>\n",
       "  <tbody>\n",
       "    <tr>\n",
       "      <th>0</th>\n",
       "      <td>360</td>\n",
       "      <td>2018-09-01</td>\n",
       "      <td>1603</td>\n",
       "      <td>1117</td>\n",
       "      <td>1157</td>\n",
       "      <td>424</td>\n",
       "      <td>426</td>\n",
       "    </tr>\n",
       "    <tr>\n",
       "      <th>1</th>\n",
       "      <td>360</td>\n",
       "      <td>2018-09-02</td>\n",
       "      <td>1371</td>\n",
       "      <td>919</td>\n",
       "      <td>949</td>\n",
       "      <td>348</td>\n",
       "      <td>349</td>\n",
       "    </tr>\n",
       "    <tr>\n",
       "      <th>2</th>\n",
       "      <td>360</td>\n",
       "      <td>2018-09-03</td>\n",
       "      <td>1454</td>\n",
       "      <td>1038</td>\n",
       "      <td>1039</td>\n",
       "      <td>372</td>\n",
       "      <td>370</td>\n",
       "    </tr>\n",
       "    <tr>\n",
       "      <th>3</th>\n",
       "      <td>360</td>\n",
       "      <td>2018-09-04</td>\n",
       "      <td>1358</td>\n",
       "      <td>928</td>\n",
       "      <td>965</td>\n",
       "      <td>346</td>\n",
       "      <td>346</td>\n",
       "    </tr>\n",
       "    <tr>\n",
       "      <th>4</th>\n",
       "      <td>360</td>\n",
       "      <td>2018-09-05</td>\n",
       "      <td>1431</td>\n",
       "      <td>988</td>\n",
       "      <td>1047</td>\n",
       "      <td>379</td>\n",
       "      <td>380</td>\n",
       "    </tr>\n",
       "    <tr>\n",
       "      <th>5</th>\n",
       "      <td>360</td>\n",
       "      <td>2018-09-06</td>\n",
       "      <td>1467</td>\n",
       "      <td>1000</td>\n",
       "      <td>1059</td>\n",
       "      <td>399</td>\n",
       "      <td>389</td>\n",
       "    </tr>\n",
       "    <tr>\n",
       "      <th>6</th>\n",
       "      <td>360</td>\n",
       "      <td>2018-09-07</td>\n",
       "      <td>1419</td>\n",
       "      <td>994</td>\n",
       "      <td>1030</td>\n",
       "      <td>374</td>\n",
       "      <td>379</td>\n",
       "    </tr>\n",
       "    <tr>\n",
       "      <th>7</th>\n",
       "      <td>360</td>\n",
       "      <td>2018-09-08</td>\n",
       "      <td>1390</td>\n",
       "      <td>938</td>\n",
       "      <td>1016</td>\n",
       "      <td>376</td>\n",
       "      <td>384</td>\n",
       "    </tr>\n",
       "    <tr>\n",
       "      <th>8</th>\n",
       "      <td>360</td>\n",
       "      <td>2018-09-09</td>\n",
       "      <td>1430</td>\n",
       "      <td>1013</td>\n",
       "      <td>1083</td>\n",
       "      <td>394</td>\n",
       "      <td>399</td>\n",
       "    </tr>\n",
       "    <tr>\n",
       "      <th>9</th>\n",
       "      <td>360</td>\n",
       "      <td>2018-09-10</td>\n",
       "      <td>1324</td>\n",
       "      <td>909</td>\n",
       "      <td>986</td>\n",
       "      <td>378</td>\n",
       "      <td>374</td>\n",
       "    </tr>\n",
       "    <tr>\n",
       "      <th>10</th>\n",
       "      <td>360</td>\n",
       "      <td>2018-09-11</td>\n",
       "      <td>1412</td>\n",
       "      <td>977</td>\n",
       "      <td>1047</td>\n",
       "      <td>400</td>\n",
       "      <td>402</td>\n",
       "    </tr>\n",
       "    <tr>\n",
       "      <th>11</th>\n",
       "      <td>360</td>\n",
       "      <td>2018-09-12</td>\n",
       "      <td>1536</td>\n",
       "      <td>1108</td>\n",
       "      <td>1170</td>\n",
       "      <td>505</td>\n",
       "      <td>507</td>\n",
       "    </tr>\n",
       "    <tr>\n",
       "      <th>12</th>\n",
       "      <td>360</td>\n",
       "      <td>2018-09-13</td>\n",
       "      <td>1387</td>\n",
       "      <td>992</td>\n",
       "      <td>1032</td>\n",
       "      <td>463</td>\n",
       "      <td>464</td>\n",
       "    </tr>\n",
       "    <tr>\n",
       "      <th>13</th>\n",
       "      <td>360</td>\n",
       "      <td>2018-09-14</td>\n",
       "      <td>1372</td>\n",
       "      <td>982</td>\n",
       "      <td>1040</td>\n",
       "      <td>495</td>\n",
       "      <td>496</td>\n",
       "    </tr>\n",
       "    <tr>\n",
       "      <th>14</th>\n",
       "      <td>360</td>\n",
       "      <td>2018-09-15</td>\n",
       "      <td>1270</td>\n",
       "      <td>837</td>\n",
       "      <td>910</td>\n",
       "      <td>474</td>\n",
       "      <td>481</td>\n",
       "    </tr>\n",
       "    <tr>\n",
       "      <th>15</th>\n",
       "      <td>360</td>\n",
       "      <td>2018-09-16</td>\n",
       "      <td>1281</td>\n",
       "      <td>905</td>\n",
       "      <td>957</td>\n",
       "      <td>471</td>\n",
       "      <td>468</td>\n",
       "    </tr>\n",
       "    <tr>\n",
       "      <th>16</th>\n",
       "      <td>360</td>\n",
       "      <td>2018-09-17</td>\n",
       "      <td>1153</td>\n",
       "      <td>820</td>\n",
       "      <td>866</td>\n",
       "      <td>444</td>\n",
       "      <td>445</td>\n",
       "    </tr>\n",
       "    <tr>\n",
       "      <th>17</th>\n",
       "      <td>360</td>\n",
       "      <td>2018-09-18</td>\n",
       "      <td>1253</td>\n",
       "      <td>934</td>\n",
       "      <td>975</td>\n",
       "      <td>485</td>\n",
       "      <td>476</td>\n",
       "    </tr>\n",
       "    <tr>\n",
       "      <th>18</th>\n",
       "      <td>360</td>\n",
       "      <td>2018-09-19</td>\n",
       "      <td>1223</td>\n",
       "      <td>877</td>\n",
       "      <td>934</td>\n",
       "      <td>436</td>\n",
       "      <td>428</td>\n",
       "    </tr>\n",
       "    <tr>\n",
       "      <th>19</th>\n",
       "      <td>360</td>\n",
       "      <td>2018-09-20</td>\n",
       "      <td>1270</td>\n",
       "      <td>920</td>\n",
       "      <td>954</td>\n",
       "      <td>445</td>\n",
       "      <td>439</td>\n",
       "    </tr>\n",
       "    <tr>\n",
       "      <th>20</th>\n",
       "      <td>360</td>\n",
       "      <td>2018-09-21</td>\n",
       "      <td>1490</td>\n",
       "      <td>1006</td>\n",
       "      <td>1061</td>\n",
       "      <td>471</td>\n",
       "      <td>460</td>\n",
       "    </tr>\n",
       "    <tr>\n",
       "      <th>21</th>\n",
       "      <td>360</td>\n",
       "      <td>2018-09-22</td>\n",
       "      <td>1631</td>\n",
       "      <td>1047</td>\n",
       "      <td>1118</td>\n",
       "      <td>527</td>\n",
       "      <td>516</td>\n",
       "    </tr>\n",
       "    <tr>\n",
       "      <th>22</th>\n",
       "      <td>360</td>\n",
       "      <td>2018-09-23</td>\n",
       "      <td>1456</td>\n",
       "      <td>1030</td>\n",
       "      <td>1088</td>\n",
       "      <td>573</td>\n",
       "      <td>558</td>\n",
       "    </tr>\n",
       "    <tr>\n",
       "      <th>23</th>\n",
       "      <td>360</td>\n",
       "      <td>2018-09-24</td>\n",
       "      <td>1446</td>\n",
       "      <td>1047</td>\n",
       "      <td>1090</td>\n",
       "      <td>558</td>\n",
       "      <td>545</td>\n",
       "    </tr>\n",
       "    <tr>\n",
       "      <th>24</th>\n",
       "      <td>360</td>\n",
       "      <td>2018-09-25</td>\n",
       "      <td>1379</td>\n",
       "      <td>990</td>\n",
       "      <td>1055</td>\n",
       "      <td>494</td>\n",
       "      <td>477</td>\n",
       "    </tr>\n",
       "    <tr>\n",
       "      <th>25</th>\n",
       "      <td>360</td>\n",
       "      <td>2018-09-26</td>\n",
       "      <td>1297</td>\n",
       "      <td>921</td>\n",
       "      <td>990</td>\n",
       "      <td>446</td>\n",
       "      <td>423</td>\n",
       "    </tr>\n",
       "    <tr>\n",
       "      <th>26</th>\n",
       "      <td>360</td>\n",
       "      <td>2018-09-27</td>\n",
       "      <td>1198</td>\n",
       "      <td>836</td>\n",
       "      <td>904</td>\n",
       "      <td>386</td>\n",
       "      <td>356</td>\n",
       "    </tr>\n",
       "    <tr>\n",
       "      <th>27</th>\n",
       "      <td>360</td>\n",
       "      <td>2018-09-28</td>\n",
       "      <td>1277</td>\n",
       "      <td>911</td>\n",
       "      <td>972</td>\n",
       "      <td>447</td>\n",
       "      <td>445</td>\n",
       "    </tr>\n",
       "    <tr>\n",
       "      <th>28</th>\n",
       "      <td>360</td>\n",
       "      <td>2018-09-29</td>\n",
       "      <td>1377</td>\n",
       "      <td>953</td>\n",
       "      <td>1016</td>\n",
       "      <td>414</td>\n",
       "      <td>416</td>\n",
       "    </tr>\n",
       "    <tr>\n",
       "      <th>29</th>\n",
       "      <td>360</td>\n",
       "      <td>2018-09-30</td>\n",
       "      <td>1428</td>\n",
       "      <td>1001</td>\n",
       "      <td>1054</td>\n",
       "      <td>454</td>\n",
       "      <td>451</td>\n",
       "    </tr>\n",
       "    <tr>\n",
       "      <th>...</th>\n",
       "      <td>...</td>\n",
       "      <td>...</td>\n",
       "      <td>...</td>\n",
       "      <td>...</td>\n",
       "      <td>...</td>\n",
       "      <td>...</td>\n",
       "      <td>...</td>\n",
       "    </tr>\n",
       "    <tr>\n",
       "      <th>2346</th>\n",
       "      <td>魅族</td>\n",
       "      <td>2019-01-01</td>\n",
       "      <td>264</td>\n",
       "      <td>241</td>\n",
       "      <td>223</td>\n",
       "      <td>155</td>\n",
       "      <td>157</td>\n",
       "    </tr>\n",
       "    <tr>\n",
       "      <th>2347</th>\n",
       "      <td>魅族</td>\n",
       "      <td>2019-01-02</td>\n",
       "      <td>320</td>\n",
       "      <td>288</td>\n",
       "      <td>271</td>\n",
       "      <td>166</td>\n",
       "      <td>171</td>\n",
       "    </tr>\n",
       "    <tr>\n",
       "      <th>2348</th>\n",
       "      <td>魅族</td>\n",
       "      <td>2019-01-03</td>\n",
       "      <td>301</td>\n",
       "      <td>267</td>\n",
       "      <td>249</td>\n",
       "      <td>160</td>\n",
       "      <td>160</td>\n",
       "    </tr>\n",
       "    <tr>\n",
       "      <th>2349</th>\n",
       "      <td>魅族</td>\n",
       "      <td>2019-01-04</td>\n",
       "      <td>286</td>\n",
       "      <td>255</td>\n",
       "      <td>245</td>\n",
       "      <td>152</td>\n",
       "      <td>156</td>\n",
       "    </tr>\n",
       "    <tr>\n",
       "      <th>2350</th>\n",
       "      <td>魅族</td>\n",
       "      <td>2019-01-05</td>\n",
       "      <td>197</td>\n",
       "      <td>182</td>\n",
       "      <td>176</td>\n",
       "      <td>110</td>\n",
       "      <td>117</td>\n",
       "    </tr>\n",
       "    <tr>\n",
       "      <th>2351</th>\n",
       "      <td>魅族</td>\n",
       "      <td>2019-01-06</td>\n",
       "      <td>164</td>\n",
       "      <td>150</td>\n",
       "      <td>147</td>\n",
       "      <td>78</td>\n",
       "      <td>80</td>\n",
       "    </tr>\n",
       "    <tr>\n",
       "      <th>2352</th>\n",
       "      <td>魅族</td>\n",
       "      <td>2019-01-07</td>\n",
       "      <td>172</td>\n",
       "      <td>154</td>\n",
       "      <td>147</td>\n",
       "      <td>85</td>\n",
       "      <td>91</td>\n",
       "    </tr>\n",
       "    <tr>\n",
       "      <th>2353</th>\n",
       "      <td>魅族</td>\n",
       "      <td>2019-01-08</td>\n",
       "      <td>186</td>\n",
       "      <td>166</td>\n",
       "      <td>161</td>\n",
       "      <td>107</td>\n",
       "      <td>106</td>\n",
       "    </tr>\n",
       "    <tr>\n",
       "      <th>2354</th>\n",
       "      <td>魅族</td>\n",
       "      <td>2019-01-09</td>\n",
       "      <td>224</td>\n",
       "      <td>204</td>\n",
       "      <td>192</td>\n",
       "      <td>122</td>\n",
       "      <td>123</td>\n",
       "    </tr>\n",
       "    <tr>\n",
       "      <th>2355</th>\n",
       "      <td>魅族</td>\n",
       "      <td>2019-01-10</td>\n",
       "      <td>225</td>\n",
       "      <td>207</td>\n",
       "      <td>198</td>\n",
       "      <td>122</td>\n",
       "      <td>124</td>\n",
       "    </tr>\n",
       "    <tr>\n",
       "      <th>2356</th>\n",
       "      <td>魅族</td>\n",
       "      <td>2019-01-11</td>\n",
       "      <td>309</td>\n",
       "      <td>280</td>\n",
       "      <td>273</td>\n",
       "      <td>187</td>\n",
       "      <td>184</td>\n",
       "    </tr>\n",
       "    <tr>\n",
       "      <th>2357</th>\n",
       "      <td>魅族</td>\n",
       "      <td>2019-01-12</td>\n",
       "      <td>276</td>\n",
       "      <td>253</td>\n",
       "      <td>242</td>\n",
       "      <td>165</td>\n",
       "      <td>169</td>\n",
       "    </tr>\n",
       "    <tr>\n",
       "      <th>2358</th>\n",
       "      <td>魅族</td>\n",
       "      <td>2019-01-13</td>\n",
       "      <td>217</td>\n",
       "      <td>198</td>\n",
       "      <td>189</td>\n",
       "      <td>122</td>\n",
       "      <td>123</td>\n",
       "    </tr>\n",
       "    <tr>\n",
       "      <th>2359</th>\n",
       "      <td>魅族</td>\n",
       "      <td>2019-01-14</td>\n",
       "      <td>187</td>\n",
       "      <td>173</td>\n",
       "      <td>168</td>\n",
       "      <td>100</td>\n",
       "      <td>101</td>\n",
       "    </tr>\n",
       "    <tr>\n",
       "      <th>2360</th>\n",
       "      <td>魅族</td>\n",
       "      <td>2019-01-15</td>\n",
       "      <td>228</td>\n",
       "      <td>201</td>\n",
       "      <td>187</td>\n",
       "      <td>99</td>\n",
       "      <td>100</td>\n",
       "    </tr>\n",
       "    <tr>\n",
       "      <th>2361</th>\n",
       "      <td>魅族</td>\n",
       "      <td>2019-01-16</td>\n",
       "      <td>257</td>\n",
       "      <td>237</td>\n",
       "      <td>224</td>\n",
       "      <td>153</td>\n",
       "      <td>152</td>\n",
       "    </tr>\n",
       "    <tr>\n",
       "      <th>2362</th>\n",
       "      <td>魅族</td>\n",
       "      <td>2019-01-17</td>\n",
       "      <td>246</td>\n",
       "      <td>229</td>\n",
       "      <td>209</td>\n",
       "      <td>119</td>\n",
       "      <td>120</td>\n",
       "    </tr>\n",
       "    <tr>\n",
       "      <th>2363</th>\n",
       "      <td>魅族</td>\n",
       "      <td>2019-01-18</td>\n",
       "      <td>238</td>\n",
       "      <td>217</td>\n",
       "      <td>206</td>\n",
       "      <td>137</td>\n",
       "      <td>138</td>\n",
       "    </tr>\n",
       "    <tr>\n",
       "      <th>2364</th>\n",
       "      <td>魅族</td>\n",
       "      <td>2019-01-19</td>\n",
       "      <td>233</td>\n",
       "      <td>218</td>\n",
       "      <td>199</td>\n",
       "      <td>123</td>\n",
       "      <td>123</td>\n",
       "    </tr>\n",
       "    <tr>\n",
       "      <th>2365</th>\n",
       "      <td>魅族</td>\n",
       "      <td>2019-01-20</td>\n",
       "      <td>255</td>\n",
       "      <td>229</td>\n",
       "      <td>211</td>\n",
       "      <td>135</td>\n",
       "      <td>138</td>\n",
       "    </tr>\n",
       "    <tr>\n",
       "      <th>2366</th>\n",
       "      <td>魅族</td>\n",
       "      <td>2019-01-21</td>\n",
       "      <td>225</td>\n",
       "      <td>203</td>\n",
       "      <td>188</td>\n",
       "      <td>111</td>\n",
       "      <td>112</td>\n",
       "    </tr>\n",
       "    <tr>\n",
       "      <th>2367</th>\n",
       "      <td>魅族</td>\n",
       "      <td>2019-01-22</td>\n",
       "      <td>220</td>\n",
       "      <td>203</td>\n",
       "      <td>189</td>\n",
       "      <td>125</td>\n",
       "      <td>130</td>\n",
       "    </tr>\n",
       "    <tr>\n",
       "      <th>2368</th>\n",
       "      <td>魅族</td>\n",
       "      <td>2019-01-23</td>\n",
       "      <td>249</td>\n",
       "      <td>219</td>\n",
       "      <td>204</td>\n",
       "      <td>124</td>\n",
       "      <td>130</td>\n",
       "    </tr>\n",
       "    <tr>\n",
       "      <th>2369</th>\n",
       "      <td>魅族</td>\n",
       "      <td>2019-01-24</td>\n",
       "      <td>242</td>\n",
       "      <td>217</td>\n",
       "      <td>200</td>\n",
       "      <td>117</td>\n",
       "      <td>118</td>\n",
       "    </tr>\n",
       "    <tr>\n",
       "      <th>2370</th>\n",
       "      <td>魅族</td>\n",
       "      <td>2019-01-25</td>\n",
       "      <td>256</td>\n",
       "      <td>237</td>\n",
       "      <td>220</td>\n",
       "      <td>131</td>\n",
       "      <td>137</td>\n",
       "    </tr>\n",
       "    <tr>\n",
       "      <th>2371</th>\n",
       "      <td>魅族</td>\n",
       "      <td>2019-01-26</td>\n",
       "      <td>266</td>\n",
       "      <td>250</td>\n",
       "      <td>235</td>\n",
       "      <td>145</td>\n",
       "      <td>143</td>\n",
       "    </tr>\n",
       "    <tr>\n",
       "      <th>2372</th>\n",
       "      <td>魅族</td>\n",
       "      <td>2019-01-27</td>\n",
       "      <td>254</td>\n",
       "      <td>247</td>\n",
       "      <td>225</td>\n",
       "      <td>141</td>\n",
       "      <td>147</td>\n",
       "    </tr>\n",
       "    <tr>\n",
       "      <th>2373</th>\n",
       "      <td>魅族</td>\n",
       "      <td>2019-01-28</td>\n",
       "      <td>274</td>\n",
       "      <td>256</td>\n",
       "      <td>238</td>\n",
       "      <td>146</td>\n",
       "      <td>151</td>\n",
       "    </tr>\n",
       "    <tr>\n",
       "      <th>2374</th>\n",
       "      <td>魅族</td>\n",
       "      <td>2019-01-29</td>\n",
       "      <td>273</td>\n",
       "      <td>256</td>\n",
       "      <td>234</td>\n",
       "      <td>144</td>\n",
       "      <td>153</td>\n",
       "    </tr>\n",
       "    <tr>\n",
       "      <th>2375</th>\n",
       "      <td>魅族</td>\n",
       "      <td>2019-01-30</td>\n",
       "      <td>318</td>\n",
       "      <td>298</td>\n",
       "      <td>277</td>\n",
       "      <td>181</td>\n",
       "      <td>184</td>\n",
       "    </tr>\n",
       "  </tbody>\n",
       "</table>\n",
       "<p>2376 rows × 7 columns</p>\n",
       "</div>"
      ],
      "text/plain": [
       "     cat2        ymd  new_smid  reg_smid  rec_smid  view_smid  act_view_smid\n",
       "0     360 2018-09-01      1603      1117      1157        424            426\n",
       "1     360 2018-09-02      1371       919       949        348            349\n",
       "2     360 2018-09-03      1454      1038      1039        372            370\n",
       "3     360 2018-09-04      1358       928       965        346            346\n",
       "4     360 2018-09-05      1431       988      1047        379            380\n",
       "5     360 2018-09-06      1467      1000      1059        399            389\n",
       "6     360 2018-09-07      1419       994      1030        374            379\n",
       "7     360 2018-09-08      1390       938      1016        376            384\n",
       "8     360 2018-09-09      1430      1013      1083        394            399\n",
       "9     360 2018-09-10      1324       909       986        378            374\n",
       "10    360 2018-09-11      1412       977      1047        400            402\n",
       "11    360 2018-09-12      1536      1108      1170        505            507\n",
       "12    360 2018-09-13      1387       992      1032        463            464\n",
       "13    360 2018-09-14      1372       982      1040        495            496\n",
       "14    360 2018-09-15      1270       837       910        474            481\n",
       "15    360 2018-09-16      1281       905       957        471            468\n",
       "16    360 2018-09-17      1153       820       866        444            445\n",
       "17    360 2018-09-18      1253       934       975        485            476\n",
       "18    360 2018-09-19      1223       877       934        436            428\n",
       "19    360 2018-09-20      1270       920       954        445            439\n",
       "20    360 2018-09-21      1490      1006      1061        471            460\n",
       "21    360 2018-09-22      1631      1047      1118        527            516\n",
       "22    360 2018-09-23      1456      1030      1088        573            558\n",
       "23    360 2018-09-24      1446      1047      1090        558            545\n",
       "24    360 2018-09-25      1379       990      1055        494            477\n",
       "25    360 2018-09-26      1297       921       990        446            423\n",
       "26    360 2018-09-27      1198       836       904        386            356\n",
       "27    360 2018-09-28      1277       911       972        447            445\n",
       "28    360 2018-09-29      1377       953      1016        414            416\n",
       "29    360 2018-09-30      1428      1001      1054        454            451\n",
       "...   ...        ...       ...       ...       ...        ...            ...\n",
       "2346   魅族 2019-01-01       264       241       223        155            157\n",
       "2347   魅族 2019-01-02       320       288       271        166            171\n",
       "2348   魅族 2019-01-03       301       267       249        160            160\n",
       "2349   魅族 2019-01-04       286       255       245        152            156\n",
       "2350   魅族 2019-01-05       197       182       176        110            117\n",
       "2351   魅族 2019-01-06       164       150       147         78             80\n",
       "2352   魅族 2019-01-07       172       154       147         85             91\n",
       "2353   魅族 2019-01-08       186       166       161        107            106\n",
       "2354   魅族 2019-01-09       224       204       192        122            123\n",
       "2355   魅族 2019-01-10       225       207       198        122            124\n",
       "2356   魅族 2019-01-11       309       280       273        187            184\n",
       "2357   魅族 2019-01-12       276       253       242        165            169\n",
       "2358   魅族 2019-01-13       217       198       189        122            123\n",
       "2359   魅族 2019-01-14       187       173       168        100            101\n",
       "2360   魅族 2019-01-15       228       201       187         99            100\n",
       "2361   魅族 2019-01-16       257       237       224        153            152\n",
       "2362   魅族 2019-01-17       246       229       209        119            120\n",
       "2363   魅族 2019-01-18       238       217       206        137            138\n",
       "2364   魅族 2019-01-19       233       218       199        123            123\n",
       "2365   魅族 2019-01-20       255       229       211        135            138\n",
       "2366   魅族 2019-01-21       225       203       188        111            112\n",
       "2367   魅族 2019-01-22       220       203       189        125            130\n",
       "2368   魅族 2019-01-23       249       219       204        124            130\n",
       "2369   魅族 2019-01-24       242       217       200        117            118\n",
       "2370   魅族 2019-01-25       256       237       220        131            137\n",
       "2371   魅族 2019-01-26       266       250       235        145            143\n",
       "2372   魅族 2019-01-27       254       247       225        141            147\n",
       "2373   魅族 2019-01-28       274       256       238        146            151\n",
       "2374   魅族 2019-01-29       273       256       234        144            153\n",
       "2375   魅族 2019-01-30       318       298       277        181            184\n",
       "\n",
       "[2376 rows x 7 columns]"
      ]
     },
     "execution_count": 26,
     "metadata": {},
     "output_type": "execute_result"
    }
   ],
   "source": [
    "grpd = df3.groupby(['cat2','ymd']).count().reset_index()\n",
    "grpd.rename(columns={\"rec_simd\":\"rec_smid\"},inplace = True)\n",
    "grpd['ymd'] = grpd['ymd'].apply(lambda x: parse(x))\n",
    "grpd"
   ]
  },
  {
   "cell_type": "code",
   "execution_count": 29,
   "metadata": {
    "collapsed": false,
    "scrolled": true
   },
   "outputs": [
    {
     "data": {
      "text/html": [
       "<div>\n",
       "<table border=\"1\" class=\"dataframe\">\n",
       "  <thead>\n",
       "    <tr style=\"text-align: right;\">\n",
       "      <th></th>\n",
       "      <th>cat2</th>\n",
       "      <th>ymd</th>\n",
       "      <th>new_smid</th>\n",
       "      <th>reg_smid</th>\n",
       "      <th>rec_smid</th>\n",
       "      <th>view_smid</th>\n",
       "      <th>act_view_smid</th>\n",
       "      <th>reg_rate</th>\n",
       "      <th>rec_rate</th>\n",
       "      <th>view_rate</th>\n",
       "      <th>act_view_rate</th>\n",
       "    </tr>\n",
       "  </thead>\n",
       "  <tbody>\n",
       "    <tr>\n",
       "      <th>122</th>\n",
       "      <td>360</td>\n",
       "      <td>2019-01-01</td>\n",
       "      <td>316</td>\n",
       "      <td>229</td>\n",
       "      <td>180</td>\n",
       "      <td>102</td>\n",
       "      <td>103</td>\n",
       "      <td>0.724684</td>\n",
       "      <td>0.569620</td>\n",
       "      <td>0.322785</td>\n",
       "      <td>0.325949</td>\n",
       "    </tr>\n",
       "    <tr>\n",
       "      <th>291</th>\n",
       "      <td>OPPO</td>\n",
       "      <td>2019-01-01</td>\n",
       "      <td>3998</td>\n",
       "      <td>3327</td>\n",
       "      <td>3244</td>\n",
       "      <td>1992</td>\n",
       "      <td>2062</td>\n",
       "      <td>0.832166</td>\n",
       "      <td>0.811406</td>\n",
       "      <td>0.498249</td>\n",
       "      <td>0.515758</td>\n",
       "    </tr>\n",
       "    <tr>\n",
       "      <th>443</th>\n",
       "      <td>VIVO</td>\n",
       "      <td>2019-01-01</td>\n",
       "      <td>5721</td>\n",
       "      <td>4601</td>\n",
       "      <td>4306</td>\n",
       "      <td>2568</td>\n",
       "      <td>2642</td>\n",
       "      <td>0.804230</td>\n",
       "      <td>0.752666</td>\n",
       "      <td>0.448873</td>\n",
       "      <td>0.461807</td>\n",
       "    </tr>\n",
       "    <tr>\n",
       "      <th>595</th>\n",
       "      <td>三星</td>\n",
       "      <td>2019-01-01</td>\n",
       "      <td>118</td>\n",
       "      <td>114</td>\n",
       "      <td>113</td>\n",
       "      <td>73</td>\n",
       "      <td>82</td>\n",
       "      <td>0.966102</td>\n",
       "      <td>0.957627</td>\n",
       "      <td>0.618644</td>\n",
       "      <td>0.694915</td>\n",
       "    </tr>\n",
       "    <tr>\n",
       "      <th>747</th>\n",
       "      <td>华为</td>\n",
       "      <td>2019-01-01</td>\n",
       "      <td>3535</td>\n",
       "      <td>2871</td>\n",
       "      <td>2809</td>\n",
       "      <td>1759</td>\n",
       "      <td>1834</td>\n",
       "      <td>0.812164</td>\n",
       "      <td>0.794625</td>\n",
       "      <td>0.497595</td>\n",
       "      <td>0.518812</td>\n",
       "    </tr>\n",
       "    <tr>\n",
       "      <th>899</th>\n",
       "      <td>安卓官网</td>\n",
       "      <td>2019-01-01</td>\n",
       "      <td>57</td>\n",
       "      <td>56</td>\n",
       "      <td>56</td>\n",
       "      <td>29</td>\n",
       "      <td>30</td>\n",
       "      <td>0.982456</td>\n",
       "      <td>0.982456</td>\n",
       "      <td>0.508772</td>\n",
       "      <td>0.526316</td>\n",
       "    </tr>\n",
       "    <tr>\n",
       "      <th>1129</th>\n",
       "      <td>小米</td>\n",
       "      <td>2019-01-01</td>\n",
       "      <td>2649</td>\n",
       "      <td>1249</td>\n",
       "      <td>1117</td>\n",
       "      <td>533</td>\n",
       "      <td>549</td>\n",
       "      <td>0.471499</td>\n",
       "      <td>0.421669</td>\n",
       "      <td>0.201208</td>\n",
       "      <td>0.207248</td>\n",
       "    </tr>\n",
       "    <tr>\n",
       "      <th>1281</th>\n",
       "      <td>应用宝</td>\n",
       "      <td>2019-01-01</td>\n",
       "      <td>369</td>\n",
       "      <td>304</td>\n",
       "      <td>295</td>\n",
       "      <td>183</td>\n",
       "      <td>183</td>\n",
       "      <td>0.823848</td>\n",
       "      <td>0.799458</td>\n",
       "      <td>0.495935</td>\n",
       "      <td>0.495935</td>\n",
       "    </tr>\n",
       "    <tr>\n",
       "      <th>1433</th>\n",
       "      <td>应用宝CPD</td>\n",
       "      <td>2019-01-01</td>\n",
       "      <td>1088</td>\n",
       "      <td>891</td>\n",
       "      <td>821</td>\n",
       "      <td>434</td>\n",
       "      <td>456</td>\n",
       "      <td>0.818934</td>\n",
       "      <td>0.754596</td>\n",
       "      <td>0.398897</td>\n",
       "      <td>0.419118</td>\n",
       "    </tr>\n",
       "    <tr>\n",
       "      <th>1585</th>\n",
       "      <td>应用宝微下载</td>\n",
       "      <td>2019-01-01</td>\n",
       "      <td>1183</td>\n",
       "      <td>1106</td>\n",
       "      <td>1087</td>\n",
       "      <td>629</td>\n",
       "      <td>624</td>\n",
       "      <td>0.934911</td>\n",
       "      <td>0.918850</td>\n",
       "      <td>0.531699</td>\n",
       "      <td>0.527473</td>\n",
       "    </tr>\n",
       "    <tr>\n",
       "      <th>1737</th>\n",
       "      <td>搜狗手机助手</td>\n",
       "      <td>2019-01-01</td>\n",
       "      <td>1</td>\n",
       "      <td>0</td>\n",
       "      <td>0</td>\n",
       "      <td>0</td>\n",
       "      <td>0</td>\n",
       "      <td>0.000000</td>\n",
       "      <td>0.000000</td>\n",
       "      <td>0.000000</td>\n",
       "      <td>0.000000</td>\n",
       "    </tr>\n",
       "    <tr>\n",
       "      <th>1886</th>\n",
       "      <td>百度手机助手</td>\n",
       "      <td>2019-01-01</td>\n",
       "      <td>333</td>\n",
       "      <td>297</td>\n",
       "      <td>289</td>\n",
       "      <td>149</td>\n",
       "      <td>149</td>\n",
       "      <td>0.891892</td>\n",
       "      <td>0.867868</td>\n",
       "      <td>0.447447</td>\n",
       "      <td>0.447447</td>\n",
       "    </tr>\n",
       "    <tr>\n",
       "      <th>2042</th>\n",
       "      <td>锤子</td>\n",
       "      <td>2019-01-01</td>\n",
       "      <td>4</td>\n",
       "      <td>4</td>\n",
       "      <td>4</td>\n",
       "      <td>0</td>\n",
       "      <td>1</td>\n",
       "      <td>1.000000</td>\n",
       "      <td>1.000000</td>\n",
       "      <td>0.000000</td>\n",
       "      <td>0.250000</td>\n",
       "    </tr>\n",
       "    <tr>\n",
       "      <th>2194</th>\n",
       "      <td>阿里分发</td>\n",
       "      <td>2019-01-01</td>\n",
       "      <td>374</td>\n",
       "      <td>286</td>\n",
       "      <td>241</td>\n",
       "      <td>103</td>\n",
       "      <td>100</td>\n",
       "      <td>0.764706</td>\n",
       "      <td>0.644385</td>\n",
       "      <td>0.275401</td>\n",
       "      <td>0.267380</td>\n",
       "    </tr>\n",
       "    <tr>\n",
       "      <th>2346</th>\n",
       "      <td>魅族</td>\n",
       "      <td>2019-01-01</td>\n",
       "      <td>264</td>\n",
       "      <td>241</td>\n",
       "      <td>223</td>\n",
       "      <td>155</td>\n",
       "      <td>157</td>\n",
       "      <td>0.912879</td>\n",
       "      <td>0.844697</td>\n",
       "      <td>0.587121</td>\n",
       "      <td>0.594697</td>\n",
       "    </tr>\n",
       "  </tbody>\n",
       "</table>\n",
       "</div>"
      ],
      "text/plain": [
       "        cat2        ymd  new_smid  reg_smid  rec_smid  view_smid  \\\n",
       "122      360 2019-01-01       316       229       180        102   \n",
       "291     OPPO 2019-01-01      3998      3327      3244       1992   \n",
       "443     VIVO 2019-01-01      5721      4601      4306       2568   \n",
       "595       三星 2019-01-01       118       114       113         73   \n",
       "747       华为 2019-01-01      3535      2871      2809       1759   \n",
       "899     安卓官网 2019-01-01        57        56        56         29   \n",
       "1129      小米 2019-01-01      2649      1249      1117        533   \n",
       "1281     应用宝 2019-01-01       369       304       295        183   \n",
       "1433  应用宝CPD 2019-01-01      1088       891       821        434   \n",
       "1585  应用宝微下载 2019-01-01      1183      1106      1087        629   \n",
       "1737  搜狗手机助手 2019-01-01         1         0         0          0   \n",
       "1886  百度手机助手 2019-01-01       333       297       289        149   \n",
       "2042      锤子 2019-01-01         4         4         4          0   \n",
       "2194    阿里分发 2019-01-01       374       286       241        103   \n",
       "2346      魅族 2019-01-01       264       241       223        155   \n",
       "\n",
       "      act_view_smid  reg_rate  rec_rate  view_rate  act_view_rate  \n",
       "122             103  0.724684  0.569620   0.322785       0.325949  \n",
       "291            2062  0.832166  0.811406   0.498249       0.515758  \n",
       "443            2642  0.804230  0.752666   0.448873       0.461807  \n",
       "595              82  0.966102  0.957627   0.618644       0.694915  \n",
       "747            1834  0.812164  0.794625   0.497595       0.518812  \n",
       "899              30  0.982456  0.982456   0.508772       0.526316  \n",
       "1129            549  0.471499  0.421669   0.201208       0.207248  \n",
       "1281            183  0.823848  0.799458   0.495935       0.495935  \n",
       "1433            456  0.818934  0.754596   0.398897       0.419118  \n",
       "1585            624  0.934911  0.918850   0.531699       0.527473  \n",
       "1737              0  0.000000  0.000000   0.000000       0.000000  \n",
       "1886            149  0.891892  0.867868   0.447447       0.447447  \n",
       "2042              1  1.000000  1.000000   0.000000       0.250000  \n",
       "2194            100  0.764706  0.644385   0.275401       0.267380  \n",
       "2346            157  0.912879  0.844697   0.587121       0.594697  "
      ]
     },
     "execution_count": 29,
     "metadata": {},
     "output_type": "execute_result"
    }
   ],
   "source": [
    "grpd[grpd['ymd']=='2019-01-01']"
   ]
  },
  {
   "cell_type": "code",
   "execution_count": 28,
   "metadata": {
    "collapsed": true
   },
   "outputs": [],
   "source": [
    "grpd['reg_rate'] = grpd['reg_smid']/grpd['new_smid']\n",
    "grpd['rec_rate'] = grpd['rec_smid']/grpd['new_smid']\n",
    "grpd['view_rate'] = grpd['view_smid']/grpd['new_smid']\n",
    "grpd['act_view_rate'] = grpd['act_view_smid']/grpd['new_smid']"
   ]
  },
  {
   "cell_type": "code",
   "execution_count": 30,
   "metadata": {
    "collapsed": false
   },
   "outputs": [],
   "source": [
    "grpd.to_csv(\"~/inke/temp/grpd.csv\",encoding = 'utf-8-sig')"
   ]
  },
  {
   "cell_type": "markdown",
   "metadata": {},
   "source": [
    "### 查看 new_smid 的重复项个数"
   ]
  },
  {
   "cell_type": "code",
   "execution_count": 35,
   "metadata": {
    "collapsed": false
   },
   "outputs": [
    {
     "data": {
      "text/plain": [
       "Index(['cat_2', 'smid', 'create_time', 'client', 'package_name', 'cc', 'cv',\n",
       "       'ip', 'osversion', 'info_extra', 'ymd'],\n",
       "      dtype='object')"
      ]
     },
     "execution_count": 35,
     "metadata": {},
     "output_type": "execute_result"
    }
   ],
   "source": [
    "df1.columns"
   ]
  },
  {
   "cell_type": "markdown",
   "metadata": {},
   "source": [
    "#### hive 筛选条件为所有项不重复，但筛选之后还是有重复的 smid"
   ]
  },
  {
   "cell_type": "code",
   "execution_count": 37,
   "metadata": {
    "collapsed": false
   },
   "outputs": [
    {
     "name": "stdout",
     "output_type": "stream",
     "text": [
      "4406417 非重复个数\n",
      "4406621 总个数\n",
      "204 重复个数\n"
     ]
    }
   ],
   "source": [
    "print(len(set(df1['smid'])),\"非重复个数\")\n",
    "print(len(df1['smid']),\"总个数\")\n",
    "print(len(df1['smid'])-len(set(df1['smid'])),\"重复个数\")"
   ]
  },
  {
   "cell_type": "code",
   "execution_count": 48,
   "metadata": {
    "collapsed": false
   },
   "outputs": [
    {
     "name": "stdout",
     "output_type": "stream",
     "text": [
      "4406417\n",
      "204\n"
     ]
    }
   ],
   "source": [
    "df1_drop = df1.drop_duplicates(['smid'])\n",
    "print(len(df1_drop))"
   ]
  },
  {
   "cell_type": "markdown",
   "metadata": {},
   "source": [
    "### 输出重复项的分渠道统计及分smid 详情\n",
    "#### 问题归于 dws.smid_download 中新增 smid 存在重复项"
   ]
  },
  {
   "cell_type": "code",
   "execution_count": 10,
   "metadata": {
    "collapsed": false,
    "scrolled": true
   },
   "outputs": [],
   "source": [
    "df1[df1['smid'].duplicated()].groupby(['cat_2','ymd']).count().to_csv(\"~/inke/temp/duplicated_smid.txt\")"
   ]
  },
  {
   "cell_type": "code",
   "execution_count": 12,
   "metadata": {
    "collapsed": false
   },
   "outputs": [],
   "source": [
    "df1[df1['smid'].duplicated()].to_csv(\"~/inke/temp/duplicated_smid_detail.txt\")"
   ]
  },
  {
   "cell_type": "code",
   "execution_count": 42,
   "metadata": {
    "collapsed": false
   },
   "outputs": [
    {
     "data": {
      "text/html": [
       "<div>\n",
       "<table border=\"1\" class=\"dataframe\">\n",
       "  <thead>\n",
       "    <tr style=\"text-align: right;\">\n",
       "      <th></th>\n",
       "      <th>cat_2</th>\n",
       "      <th>smid</th>\n",
       "      <th>create_time</th>\n",
       "      <th>client</th>\n",
       "      <th>package_name</th>\n",
       "      <th>cc</th>\n",
       "      <th>cv</th>\n",
       "      <th>ip</th>\n",
       "      <th>osversion</th>\n",
       "      <th>info_extra</th>\n",
       "      <th>ymd</th>\n",
       "    </tr>\n",
       "  </thead>\n",
       "  <tbody>\n",
       "    <tr>\n",
       "      <th>1504459</th>\n",
       "      <td>360</td>\n",
       "      <td>Duoj+sr4Z3mEUbFYWRBvTtck99ef+e/WrFHuMb0k8OBLR6...</td>\n",
       "      <td>2018-11-28 09:53:47</td>\n",
       "      <td>android</td>\n",
       "      <td>com.meelive.ingkee</td>\n",
       "      <td>TG36000</td>\n",
       "      <td>6.2.25</td>\n",
       "      <td>122.143.27.35</td>\n",
       "      <td>6.0</td>\n",
       "      <td>{\"app_sign\":\"308203c7308202afa00302010202046aa...</td>\n",
       "      <td>20181128.0</td>\n",
       "    </tr>\n",
       "  </tbody>\n",
       "</table>\n",
       "</div>"
      ],
      "text/plain": [
       "        cat_2                                               smid  \\\n",
       "1504459   360  Duoj+sr4Z3mEUbFYWRBvTtck99ef+e/WrFHuMb0k8OBLR6...   \n",
       "\n",
       "                 create_time   client        package_name       cc      cv  \\\n",
       "1504459  2018-11-28 09:53:47  android  com.meelive.ingkee  TG36000  6.2.25   \n",
       "\n",
       "                    ip osversion  \\\n",
       "1504459  122.143.27.35       6.0   \n",
       "\n",
       "                                                info_extra         ymd  \n",
       "1504459  {\"app_sign\":\"308203c7308202afa00302010202046aa...  20181128.0  "
      ]
     },
     "execution_count": 42,
     "metadata": {},
     "output_type": "execute_result"
    }
   ],
   "source": [
    "df1[df1['smid'] == 'Duoj+sr4Z3mEUbFYWRBvTtck99ef+e/WrFHuMb0k8OBLR6+J/xdswisxkUEZ8g60V9k8h/FA7Mt31ifmey+PrBeA']"
   ]
  },
  {
   "cell_type": "markdown",
   "metadata": {},
   "source": [
    "### 输出 cat2 列表"
   ]
  },
  {
   "cell_type": "code",
   "execution_count": 43,
   "metadata": {
    "collapsed": false
   },
   "outputs": [
    {
     "data": {
      "text/html": [
       "<div>\n",
       "<table border=\"1\" class=\"dataframe\">\n",
       "  <thead>\n",
       "    <tr style=\"text-align: right;\">\n",
       "      <th></th>\n",
       "      <th>cat_2</th>\n",
       "      <th>log_smid</th>\n",
       "      <th>log_ymd</th>\n",
       "      <th>c.aid</th>\n",
       "      <th>c.cc</th>\n",
       "      <th>c.client_ip</th>\n",
       "      <th>c.conn</th>\n",
       "      <th>c.cv</th>\n",
       "      <th>c.devi</th>\n",
       "      <th>c.idfa</th>\n",
       "      <th>...</th>\n",
       "      <th>c.osversion</th>\n",
       "      <th>c.proto</th>\n",
       "      <th>c.record_time</th>\n",
       "      <th>c.smid</th>\n",
       "      <th>c.ua</th>\n",
       "      <th>c.uid</th>\n",
       "      <th>c.ndid</th>\n",
       "      <th>c.seq</th>\n",
       "      <th>c.info_enter</th>\n",
       "      <th>c.ymd</th>\n",
       "    </tr>\n",
       "  </thead>\n",
       "  <tbody>\n",
       "    <tr>\n",
       "      <th>0</th>\n",
       "      <td>VIVO</td>\n",
       "      <td>Du0AyY//DwEpDnil3Ygjr57jXgHtJqOunAblQO0E3BvMZD...</td>\n",
       "      <td>20180920</td>\n",
       "      <td>8843221acde95abb</td>\n",
       "      <td>TG36062</td>\n",
       "      <td>117.157.163.187</td>\n",
       "      <td>wifi</td>\n",
       "      <td>IK6.1.65_Android</td>\n",
       "      <td>861786038430296</td>\n",
       "      <td>NaN</td>\n",
       "      <td>...</td>\n",
       "      <td>android_21</td>\n",
       "      <td>8</td>\n",
       "      <td>1.537448e+12</td>\n",
       "      <td>Du0AyY//DwEpDnil3Ygjr57jXgHtJqOunAblQO0E3BvMZD...</td>\n",
       "      <td>vivovivoY51</td>\n",
       "      <td>2011994203</td>\n",
       "      <td>201809202055483015083fa57206edc05e97bac45bf754...</td>\n",
       "      <td>93.0</td>\n",
       "      <td>HALL_DISCOVER</td>\n",
       "      <td>20180920.0</td>\n",
       "    </tr>\n",
       "    <tr>\n",
       "      <th>1</th>\n",
       "      <td>VIVO</td>\n",
       "      <td>Du0AyY//DwEpDnil3Ygjr57jXgHtJqOunAblQO0E3BvMZD...</td>\n",
       "      <td>20180920</td>\n",
       "      <td>8843221acde95abb</td>\n",
       "      <td>TG36062</td>\n",
       "      <td>117.157.163.187</td>\n",
       "      <td>wifi</td>\n",
       "      <td>IK6.1.65_Android</td>\n",
       "      <td>861786038430296</td>\n",
       "      <td>NaN</td>\n",
       "      <td>...</td>\n",
       "      <td>android_21</td>\n",
       "      <td>8</td>\n",
       "      <td>1.537448e+12</td>\n",
       "      <td>Du0AyY//DwEpDnil3Ygjr57jXgHtJqOunAblQO0E3BvMZD...</td>\n",
       "      <td>vivovivoY51</td>\n",
       "      <td>2011994203</td>\n",
       "      <td>201809202055483015083fa57206edc05e97bac45bf754...</td>\n",
       "      <td>15.0</td>\n",
       "      <td>FIRST_IN</td>\n",
       "      <td>20180920.0</td>\n",
       "    </tr>\n",
       "    <tr>\n",
       "      <th>2</th>\n",
       "      <td>VIVO</td>\n",
       "      <td>Du0AyY//DwEpDnil3Ygjr57jXgHtJqOunAblQO0E3BvMZD...</td>\n",
       "      <td>20180920</td>\n",
       "      <td>8843221acde95abb</td>\n",
       "      <td>TG36062</td>\n",
       "      <td>117.157.163.187</td>\n",
       "      <td>wifi</td>\n",
       "      <td>IK6.1.65_Android</td>\n",
       "      <td>861786038430296</td>\n",
       "      <td>NaN</td>\n",
       "      <td>...</td>\n",
       "      <td>android_21</td>\n",
       "      <td>8</td>\n",
       "      <td>1.537448e+12</td>\n",
       "      <td>Du0AyY//DwEpDnil3Ygjr57jXgHtJqOunAblQO0E3BvMZD...</td>\n",
       "      <td>vivovivoY51</td>\n",
       "      <td>2011994203</td>\n",
       "      <td>201809202055483015083fa57206edc05e97bac45bf754...</td>\n",
       "      <td>96.0</td>\n",
       "      <td>HALL_DISCOVER</td>\n",
       "      <td>20180920.0</td>\n",
       "    </tr>\n",
       "    <tr>\n",
       "      <th>3</th>\n",
       "      <td>VIVO</td>\n",
       "      <td>Du0B+1fWIAQGrmhi6ocWt/kBTUo2H0fJPpVPOie7vTLPbp...</td>\n",
       "      <td>20190101</td>\n",
       "      <td>de46448f8d862078</td>\n",
       "      <td>TG36062</td>\n",
       "      <td>223.104.1.106</td>\n",
       "      <td>4G</td>\n",
       "      <td>IK7.0.01_Android</td>\n",
       "      <td>861786038528172</td>\n",
       "      <td>NaN</td>\n",
       "      <td>...</td>\n",
       "      <td>android_21</td>\n",
       "      <td>8</td>\n",
       "      <td>1.546356e+12</td>\n",
       "      <td>Du0B+1fWIAQGrmhi6ocWt/kBTUo2H0fJPpVPOie7vTLPbp...</td>\n",
       "      <td>vivovivoY51</td>\n",
       "      <td>0</td>\n",
       "      <td>NaN</td>\n",
       "      <td>12.0</td>\n",
       "      <td>FIRST_IN</td>\n",
       "      <td>20190101.0</td>\n",
       "    </tr>\n",
       "    <tr>\n",
       "      <th>4</th>\n",
       "      <td>百度手机助手</td>\n",
       "      <td>Du0C3nxIvXaV2P8OZUIfe4rAUdB1GztxOLz7vNupwkorQy...</td>\n",
       "      <td>20181129</td>\n",
       "      <td>6358395f19d68afa</td>\n",
       "      <td>TG36002</td>\n",
       "      <td>221.7.7.104</td>\n",
       "      <td>4G</td>\n",
       "      <td>IK6.2.25_Android</td>\n",
       "      <td>544f827c34318049284faa78ffed47f9</td>\n",
       "      <td>NaN</td>\n",
       "      <td>...</td>\n",
       "      <td>android_27</td>\n",
       "      <td>8</td>\n",
       "      <td>1.543473e+12</td>\n",
       "      <td>Du0C3nxIvXaV2P8OZUIfe4rAUdB1GztxOLz7vNupwkorQy...</td>\n",
       "      <td>OPPOPACM00</td>\n",
       "      <td>0</td>\n",
       "      <td>NaN</td>\n",
       "      <td>11.0</td>\n",
       "      <td>FIRST_IN</td>\n",
       "      <td>20181129.0</td>\n",
       "    </tr>\n",
       "  </tbody>\n",
       "</table>\n",
       "<p>5 rows × 39 columns</p>\n",
       "</div>"
      ],
      "text/plain": [
       "    cat_2                                           log_smid   log_ymd  \\\n",
       "0    VIVO  Du0AyY//DwEpDnil3Ygjr57jXgHtJqOunAblQO0E3BvMZD...  20180920   \n",
       "1    VIVO  Du0AyY//DwEpDnil3Ygjr57jXgHtJqOunAblQO0E3BvMZD...  20180920   \n",
       "2    VIVO  Du0AyY//DwEpDnil3Ygjr57jXgHtJqOunAblQO0E3BvMZD...  20180920   \n",
       "3    VIVO  Du0B+1fWIAQGrmhi6ocWt/kBTUo2H0fJPpVPOie7vTLPbp...  20190101   \n",
       "4  百度手机助手  Du0C3nxIvXaV2P8OZUIfe4rAUdB1GztxOLz7vNupwkorQy...  20181129   \n",
       "\n",
       "              c.aid     c.cc      c.client_ip c.conn              c.cv  \\\n",
       "0  8843221acde95abb  TG36062  117.157.163.187   wifi  IK6.1.65_Android   \n",
       "1  8843221acde95abb  TG36062  117.157.163.187   wifi  IK6.1.65_Android   \n",
       "2  8843221acde95abb  TG36062  117.157.163.187   wifi  IK6.1.65_Android   \n",
       "3  de46448f8d862078  TG36062    223.104.1.106     4G  IK7.0.01_Android   \n",
       "4  6358395f19d68afa  TG36002      221.7.7.104     4G  IK6.2.25_Android   \n",
       "\n",
       "                             c.devi c.idfa     ...      c.osversion c.proto  \\\n",
       "0                   861786038430296    NaN     ...       android_21       8   \n",
       "1                   861786038430296    NaN     ...       android_21       8   \n",
       "2                   861786038430296    NaN     ...       android_21       8   \n",
       "3                   861786038528172    NaN     ...       android_21       8   \n",
       "4  544f827c34318049284faa78ffed47f9    NaN     ...       android_27       8   \n",
       "\n",
       "  c.record_time                                             c.smid  \\\n",
       "0  1.537448e+12  Du0AyY//DwEpDnil3Ygjr57jXgHtJqOunAblQO0E3BvMZD...   \n",
       "1  1.537448e+12  Du0AyY//DwEpDnil3Ygjr57jXgHtJqOunAblQO0E3BvMZD...   \n",
       "2  1.537448e+12  Du0AyY//DwEpDnil3Ygjr57jXgHtJqOunAblQO0E3BvMZD...   \n",
       "3  1.546356e+12  Du0B+1fWIAQGrmhi6ocWt/kBTUo2H0fJPpVPOie7vTLPbp...   \n",
       "4  1.543473e+12  Du0C3nxIvXaV2P8OZUIfe4rAUdB1GztxOLz7vNupwkorQy...   \n",
       "\n",
       "          c.ua       c.uid                                             c.ndid  \\\n",
       "0  vivovivoY51  2011994203  201809202055483015083fa57206edc05e97bac45bf754...   \n",
       "1  vivovivoY51  2011994203  201809202055483015083fa57206edc05e97bac45bf754...   \n",
       "2  vivovivoY51  2011994203  201809202055483015083fa57206edc05e97bac45bf754...   \n",
       "3  vivovivoY51           0                                                NaN   \n",
       "4   OPPOPACM00           0                                                NaN   \n",
       "\n",
       "  c.seq   c.info_enter       c.ymd  \n",
       "0  93.0  HALL_DISCOVER  20180920.0  \n",
       "1  15.0       FIRST_IN  20180920.0  \n",
       "2  96.0  HALL_DISCOVER  20180920.0  \n",
       "3  12.0       FIRST_IN  20190101.0  \n",
       "4  11.0       FIRST_IN  20181129.0  \n",
       "\n",
       "[5 rows x 39 columns]"
      ]
     },
     "execution_count": 43,
     "metadata": {},
     "output_type": "execute_result"
    }
   ],
   "source": [
    "df2.head()"
   ]
  },
  {
   "cell_type": "markdown",
   "metadata": {},
   "source": [
    "### 查看 log_smid 重复个数"
   ]
  },
  {
   "cell_type": "code",
   "execution_count": 44,
   "metadata": {
    "collapsed": false,
    "scrolled": true
   },
   "outputs": [
    {
     "name": "stdout",
     "output_type": "stream",
     "text": [
      "3347404 非重复个数\n",
      "5687889 总个数\n",
      "2340485 重复个数\n"
     ]
    }
   ],
   "source": [
    "print(len(set(df2['log_smid'])),\"非重复个数\")\n",
    "print(len(df2['log_smid']),\"总个数\")\n",
    "print(len(df2['log_smid'])-len(set(df2['log_smid'])),\"重复个数\")"
   ]
  },
  {
   "cell_type": "code",
   "execution_count": 47,
   "metadata": {
    "collapsed": false
   },
   "outputs": [
    {
     "name": "stdout",
     "output_type": "stream",
     "text": [
      "3347404\n",
      "2340485\n"
     ]
    }
   ],
   "source": [
    "df2_drop = df2.drop_duplicates(['log_smid'])\n",
    "print(len(df2_drop))"
   ]
  },
  {
   "cell_type": "code",
   "execution_count": 52,
   "metadata": {
    "collapsed": false
   },
   "outputs": [
    {
     "name": "stderr",
     "output_type": "stream",
     "text": [
      "/home/liuyiming/anaconda3/install/lib/python3.5/site-packages/pandas/core/frame.py:2754: SettingWithCopyWarning: \n",
      "A value is trying to be set on a copy of a slice from a DataFrame\n",
      "\n",
      "See the caveats in the documentation: http://pandas.pydata.org/pandas-docs/stable/indexing.html#indexing-view-versus-copy\n",
      "  **kwargs)\n"
     ]
    }
   ],
   "source": [
    "df2_drop.rename(columns={\"log_smid\":\"smid\"},inplace = True)"
   ]
  },
  {
   "cell_type": "code",
   "execution_count": 54,
   "metadata": {
    "collapsed": false
   },
   "outputs": [],
   "source": [
    "df1_2_drop = pd.merge(df1_drop, df2_drop, on = 'smid', how = 'left')"
   ]
  },
  {
   "cell_type": "code",
   "execution_count": 64,
   "metadata": {
    "collapsed": false,
    "scrolled": true
   },
   "outputs": [
    {
     "name": "stderr",
     "output_type": "stream",
     "text": [
      "/home/liuyiming/anaconda3/install/lib/python3.5/site-packages/ipykernel/__main__.py:3: SettingWithCopyWarning: \n",
      "A value is trying to be set on a copy of a slice from a DataFrame\n",
      "\n",
      "See the caveats in the documentation: http://pandas.pydata.org/pandas-docs/stable/indexing.html#indexing-view-versus-copy\n",
      "  app.launch_new_instance()\n"
     ]
    },
    {
     "data": {
      "text/plain": [
       "Counter({0: 1059066, 1: 3347351})"
      ]
     },
     "execution_count": 64,
     "metadata": {},
     "output_type": "execute_result"
    }
   ],
   "source": [
    "df1_2_drop.head()\n",
    "df1_2_drop['log_exp'] = df1_2_drop['c.smid'].duplicated()+1\n",
    "df1_2_drop['log_exp'][df1_2_drop['log_exp'] == 2]=0\n",
    "Counter(df1_2_drop['log_exp'])"
   ]
  },
  {
   "cell_type": "code",
   "execution_count": 66,
   "metadata": {
    "collapsed": false
   },
   "outputs": [
    {
     "data": {
      "text/plain": [
       "3347350"
      ]
     },
     "execution_count": 66,
     "metadata": {},
     "output_type": "execute_result"
    }
   ],
   "source": [
    "df1_2_drop['c.smid'].count()"
   ]
  },
  {
   "cell_type": "markdown",
   "metadata": {},
   "source": [
    "### 查看从新增激活到注册页曝光的转化率"
   ]
  },
  {
   "cell_type": "code",
   "execution_count": 76,
   "metadata": {
    "collapsed": false
   },
   "outputs": [
    {
     "data": {
      "text/html": [
       "<div>\n",
       "<table border=\"1\" class=\"dataframe\">\n",
       "  <thead>\n",
       "    <tr style=\"text-align: right;\">\n",
       "      <th></th>\n",
       "      <th>cat_2_x</th>\n",
       "      <th>ymd</th>\n",
       "      <th>smid</th>\n",
       "      <th>create_time</th>\n",
       "      <th>client</th>\n",
       "      <th>package_name</th>\n",
       "      <th>cc</th>\n",
       "      <th>cv</th>\n",
       "      <th>ip</th>\n",
       "      <th>osversion</th>\n",
       "      <th>...</th>\n",
       "      <th>c.proto</th>\n",
       "      <th>c.record_time</th>\n",
       "      <th>c.smid</th>\n",
       "      <th>c.ua</th>\n",
       "      <th>c.uid</th>\n",
       "      <th>c.ndid</th>\n",
       "      <th>c.seq</th>\n",
       "      <th>c.info_enter</th>\n",
       "      <th>c.ymd</th>\n",
       "      <th>log_exp</th>\n",
       "    </tr>\n",
       "  </thead>\n",
       "  <tbody>\n",
       "    <tr>\n",
       "      <th>0</th>\n",
       "      <td>360</td>\n",
       "      <td>20180901.0</td>\n",
       "      <td>1603</td>\n",
       "      <td>1603</td>\n",
       "      <td>1603</td>\n",
       "      <td>1603</td>\n",
       "      <td>1603</td>\n",
       "      <td>1603</td>\n",
       "      <td>1603</td>\n",
       "      <td>1603</td>\n",
       "      <td>...</td>\n",
       "      <td>1117</td>\n",
       "      <td>1117</td>\n",
       "      <td>1117</td>\n",
       "      <td>1117</td>\n",
       "      <td>1117</td>\n",
       "      <td>1111</td>\n",
       "      <td>1111</td>\n",
       "      <td>1107</td>\n",
       "      <td>1117</td>\n",
       "      <td>1603</td>\n",
       "    </tr>\n",
       "    <tr>\n",
       "      <th>1</th>\n",
       "      <td>360</td>\n",
       "      <td>20180902.0</td>\n",
       "      <td>1371</td>\n",
       "      <td>1371</td>\n",
       "      <td>1371</td>\n",
       "      <td>1371</td>\n",
       "      <td>1371</td>\n",
       "      <td>1371</td>\n",
       "      <td>1371</td>\n",
       "      <td>1371</td>\n",
       "      <td>...</td>\n",
       "      <td>919</td>\n",
       "      <td>919</td>\n",
       "      <td>919</td>\n",
       "      <td>919</td>\n",
       "      <td>919</td>\n",
       "      <td>907</td>\n",
       "      <td>907</td>\n",
       "      <td>914</td>\n",
       "      <td>919</td>\n",
       "      <td>1371</td>\n",
       "    </tr>\n",
       "    <tr>\n",
       "      <th>2</th>\n",
       "      <td>360</td>\n",
       "      <td>20180903.0</td>\n",
       "      <td>1454</td>\n",
       "      <td>1454</td>\n",
       "      <td>1454</td>\n",
       "      <td>1454</td>\n",
       "      <td>1454</td>\n",
       "      <td>1454</td>\n",
       "      <td>1454</td>\n",
       "      <td>1454</td>\n",
       "      <td>...</td>\n",
       "      <td>1038</td>\n",
       "      <td>1038</td>\n",
       "      <td>1038</td>\n",
       "      <td>1038</td>\n",
       "      <td>1038</td>\n",
       "      <td>1032</td>\n",
       "      <td>1032</td>\n",
       "      <td>1029</td>\n",
       "      <td>1038</td>\n",
       "      <td>1454</td>\n",
       "    </tr>\n",
       "    <tr>\n",
       "      <th>3</th>\n",
       "      <td>360</td>\n",
       "      <td>20180904.0</td>\n",
       "      <td>1358</td>\n",
       "      <td>1358</td>\n",
       "      <td>1358</td>\n",
       "      <td>1358</td>\n",
       "      <td>1358</td>\n",
       "      <td>1358</td>\n",
       "      <td>1358</td>\n",
       "      <td>1358</td>\n",
       "      <td>...</td>\n",
       "      <td>928</td>\n",
       "      <td>928</td>\n",
       "      <td>928</td>\n",
       "      <td>928</td>\n",
       "      <td>928</td>\n",
       "      <td>921</td>\n",
       "      <td>921</td>\n",
       "      <td>923</td>\n",
       "      <td>928</td>\n",
       "      <td>1358</td>\n",
       "    </tr>\n",
       "    <tr>\n",
       "      <th>4</th>\n",
       "      <td>360</td>\n",
       "      <td>20180905.0</td>\n",
       "      <td>1431</td>\n",
       "      <td>1431</td>\n",
       "      <td>1431</td>\n",
       "      <td>1431</td>\n",
       "      <td>1431</td>\n",
       "      <td>1431</td>\n",
       "      <td>1431</td>\n",
       "      <td>1431</td>\n",
       "      <td>...</td>\n",
       "      <td>988</td>\n",
       "      <td>988</td>\n",
       "      <td>988</td>\n",
       "      <td>988</td>\n",
       "      <td>988</td>\n",
       "      <td>981</td>\n",
       "      <td>981</td>\n",
       "      <td>978</td>\n",
       "      <td>988</td>\n",
       "      <td>1431</td>\n",
       "    </tr>\n",
       "  </tbody>\n",
       "</table>\n",
       "<p>5 rows × 50 columns</p>\n",
       "</div>"
      ],
      "text/plain": [
       "  cat_2_x         ymd  smid  create_time  client  package_name    cc    cv  \\\n",
       "0     360  20180901.0  1603         1603    1603          1603  1603  1603   \n",
       "1     360  20180902.0  1371         1371    1371          1371  1371  1371   \n",
       "2     360  20180903.0  1454         1454    1454          1454  1454  1454   \n",
       "3     360  20180904.0  1358         1358    1358          1358  1358  1358   \n",
       "4     360  20180905.0  1431         1431    1431          1431  1431  1431   \n",
       "\n",
       "     ip  osversion   ...     c.proto  c.record_time  c.smid  c.ua  c.uid  \\\n",
       "0  1603       1603   ...        1117           1117    1117  1117   1117   \n",
       "1  1371       1371   ...         919            919     919   919    919   \n",
       "2  1454       1454   ...        1038           1038    1038  1038   1038   \n",
       "3  1358       1358   ...         928            928     928   928    928   \n",
       "4  1431       1431   ...         988            988     988   988    988   \n",
       "\n",
       "   c.ndid  c.seq  c.info_enter  c.ymd  log_exp  \n",
       "0    1111   1111          1107   1117     1603  \n",
       "1     907    907           914    919     1371  \n",
       "2    1032   1032          1029   1038     1454  \n",
       "3     921    921           923    928     1358  \n",
       "4     981    981           978    988     1431  \n",
       "\n",
       "[5 rows x 50 columns]"
      ]
     },
     "execution_count": 76,
     "metadata": {},
     "output_type": "execute_result"
    }
   ],
   "source": [
    "new2log = df1_2_drop.groupby(['cat_2_x','ymd']).count().reset_index()\n",
    "new2log.head()"
   ]
  },
  {
   "cell_type": "code",
   "execution_count": 82,
   "metadata": {
    "collapsed": false
   },
   "outputs": [
    {
     "name": "stdout",
     "output_type": "stream",
     "text": [
      "华为\n"
     ]
    },
    {
     "data": {
      "image/png": "[encoded data removed]",
      "text/plain": [
       "<matplotlib.figure.Figure at 0x7fd8265fb630>"
      ]
     },
     "metadata": {},
     "output_type": "display_data"
    },
    {
     "name": "stdout",
     "output_type": "stream",
     "text": [
      "链斯达克\n"
     ]
    },
    {
     "data": {
      "image/png": "[encoded data removed]",
      "text/plain": [
       "<matplotlib.figure.Figure at 0x7fd7d7f00358>"
      ]
     },
     "metadata": {},
     "output_type": "display_data"
    },
    {
     "name": "stdout",
     "output_type": "stream",
     "text": [
      "百度手机助手\n"
     ]
    },
    {
     "data": {
      "image/png": "[encoded data removed]",
      "text/plain": [
       "<matplotlib.figure.Figure at 0x7fd8265fbf98>"
      ]
     },
     "metadata": {},
     "output_type": "display_data"
    },
    {
     "name": "stdout",
     "output_type": "stream",
     "text": [
      "安卓官网\n"
     ]
    },
    {
     "data": {
      "image/png": "[encoded data removed]",
      "text/plain": [
       "<matplotlib.figure.Figure at 0x7fd8266087f0>"
      ]
     },
     "metadata": {},
     "output_type": "display_data"
    },
    {
     "name": "stdout",
     "output_type": "stream",
     "text": [
      "360\n"
     ]
    },
    {
     "data": {
      "image/png": "[encoded data removed]",
      "text/plain": [
       "<matplotlib.figure.Figure at 0x7fd822673860>"
      ]
     },
     "metadata": {},
     "output_type": "display_data"
    },
    {
     "name": "stdout",
     "output_type": "stream",
     "text": [
      "应用宝\n"
     ]
    },
    {
     "data": {
      "image/png": "[encoded data removed]",
      "text/plain": [
       "<matplotlib.figure.Figure at 0x7fd7f157aa90>"
      ]
     },
     "metadata": {},
     "output_type": "display_data"
    },
    {
     "name": "stdout",
     "output_type": "stream",
     "text": [
      "应用宝CPD\n"
     ]
    },
    {
     "data": {
      "image/png": "[encoded data removed]",
      "text/plain": [
       "<matplotlib.figure.Figure at 0x7fd5a4dbba90>"
      ]
     },
     "metadata": {},
     "output_type": "display_data"
    },
    {
     "name": "stdout",
     "output_type": "stream",
     "text": [
      "Google Play\n"
     ]
    },
    {
     "data": {
      "image/png": "[encoded data removed]",
      "text/plain": [
       "<matplotlib.figure.Figure at 0x7fd7f156e390>"
      ]
     },
     "metadata": {},
     "output_type": "display_data"
    },
    {
     "name": "stdout",
     "output_type": "stream",
     "text": [
      "VIVO\n"
     ]
    },
    {
     "data": {
      "image/png": "[encoded data removed]",
      "text/plain": [
       "<matplotlib.figure.Figure at 0x7fd7f112d2e8>"
      ]
     },
     "metadata": {},
     "output_type": "display_data"
    },
    {
     "name": "stdout",
     "output_type": "stream",
     "text": [
      "强制更新\n"
     ]
    },
    {
     "data": {
      "image/png": "[encoded data removed]",
      "text/plain": [
       "<matplotlib.figure.Figure at 0x7fd826acdc18>"
      ]
     },
     "metadata": {},
     "output_type": "display_data"
    },
    {
     "name": "stdout",
     "output_type": "stream",
     "text": [
      "OPPO\n"
     ]
    },
    {
     "data": {
      "image/png": "[encoded data removed]",
      "text/plain": [
       "<matplotlib.figure.Figure at 0x7fd7f1151748>"
      ]
     },
     "metadata": {},
     "output_type": "display_data"
    },
    {
     "name": "stdout",
     "output_type": "stream",
     "text": [
      "安智市场\n"
     ]
    },
    {
     "data": {
      "image/png": "[encoded data removed]",
      "text/plain": [
       "<matplotlib.figure.Figure at 0x7fd7f1132390>"
      ]
     },
     "metadata": {},
     "output_type": "display_data"
    },
    {
     "name": "stdout",
     "output_type": "stream",
     "text": [
      "应用宝微下载\n"
     ]
    },
    {
     "data": {
      "image/png": "[encoded data removed]",
      "text/plain": [
       "<matplotlib.figure.Figure at 0x7fd7f1138e48>"
      ]
     },
     "metadata": {},
     "output_type": "display_data"
    },
    {
     "name": "stdout",
     "output_type": "stream",
     "text": [
      "阿里分发\n"
     ]
    },
    {
     "data": {
      "image/png": "[encoded data removed]",
      "text/plain": [
       "<matplotlib.figure.Figure at 0x7fd7f11449b0>"
      ]
     },
     "metadata": {},
     "output_type": "display_data"
    },
    {
     "name": "stdout",
     "output_type": "stream",
     "text": [
      "三星\n"
     ]
    },
    {
     "data": {
      "image/png": "[encoded data removed]",
      "text/plain": [
       "<matplotlib.figure.Figure at 0x7fd826ab04e0>"
      ]
     },
     "metadata": {},
     "output_type": "display_data"
    },
    {
     "name": "stdout",
     "output_type": "stream",
     "text": [
      "锤子\n"
     ]
    },
    {
     "data": {
      "image/png": "[encoded data removed]",
      "text/plain": [
       "<matplotlib.figure.Figure at 0x7fd822689978>"
      ]
     },
     "metadata": {},
     "output_type": "display_data"
    },
    {
     "name": "stdout",
     "output_type": "stream",
     "text": [
      "搜狗手机助手\n"
     ]
    },
    {
     "data": {
      "image/png": "[encoded data removed]",
      "text/plain": [
       "<matplotlib.figure.Figure at 0x7fd7f159d940>"
      ]
     },
     "metadata": {},
     "output_type": "display_data"
    },
    {
     "name": "stdout",
     "output_type": "stream",
     "text": [
      "魅族\n"
     ]
    },
    {
     "data": {
      "image/png": "[encoded data removed]",
      "text/plain": [
       "<matplotlib.figure.Figure at 0x7fd7d5fd1e80>"
      ]
     },
     "metadata": {},
     "output_type": "display_data"
    },
    {
     "name": "stdout",
     "output_type": "stream",
     "text": [
      "小米\n"
     ]
    },
    {
     "data": {
      "image/png": "[encoded data removed]",
      "text/plain": [
       "<matplotlib.figure.Figure at 0x7fd826601160>"
      ]
     },
     "metadata": {},
     "output_type": "display_data"
    }
   ],
   "source": [
    "new2log['new2log_rate'] = new2log['c.smid']/new2log['smid']\n",
    "for i in list(set(new2log['cat_2_x'])):\n",
    "    print(i)\n",
    "    plt.scatter(new2log['ymd'][new2log['cat_2_x'] == i],new2log['new2log_rate'][new2log['cat_2_x'] == i])\n",
    "    plt.show()"
   ]
  },
  {
   "cell_type": "code",
   "execution_count": 80,
   "metadata": {
    "collapsed": false
   },
   "outputs": [
    {
     "data": {
      "text/plain": [
       "0      20180901.0\n",
       "1      20180902.0\n",
       "2      20180903.0\n",
       "3      20180904.0\n",
       "4      20180905.0\n",
       "5      20180906.0\n",
       "6      20180907.0\n",
       "7      20180908.0\n",
       "8      20180909.0\n",
       "9      20180910.0\n",
       "10     20180911.0\n",
       "11     20180912.0\n",
       "12     20180913.0\n",
       "13     20180914.0\n",
       "14     20180915.0\n",
       "15     20180916.0\n",
       "16     20180917.0\n",
       "17     20180918.0\n",
       "18     20180919.0\n",
       "19     20180920.0\n",
       "20     20180921.0\n",
       "21     20180922.0\n",
       "22     20180923.0\n",
       "23     20180924.0\n",
       "24     20180925.0\n",
       "25     20180926.0\n",
       "26     20180927.0\n",
       "27     20180928.0\n",
       "28     20180929.0\n",
       "29     20180930.0\n",
       "          ...    \n",
       "122    20190101.0\n",
       "123    20190102.0\n",
       "124    20190103.0\n",
       "125    20190104.0\n",
       "126    20190105.0\n",
       "127    20190106.0\n",
       "128    20190107.0\n",
       "129    20190108.0\n",
       "130    20190109.0\n",
       "131    20190110.0\n",
       "132    20190111.0\n",
       "133    20190112.0\n",
       "134    20190113.0\n",
       "135    20190114.0\n",
       "136    20190115.0\n",
       "137    20190116.0\n",
       "138    20190117.0\n",
       "139    20190118.0\n",
       "140    20190119.0\n",
       "141    20190120.0\n",
       "142    20190121.0\n",
       "143    20190122.0\n",
       "144    20190123.0\n",
       "145    20190124.0\n",
       "146    20190125.0\n",
       "147    20190126.0\n",
       "148    20190127.0\n",
       "149    20190128.0\n",
       "150    20190129.0\n",
       "151    20190130.0\n",
       "Name: ymd, dtype: float64"
      ]
     },
     "execution_count": 80,
     "metadata": {},
     "output_type": "execute_result"
    }
   ],
   "source": [
    "new2log['ymd'][new2log['cat_2_x'] == '360']\n"
   ]
  },
  {
   "cell_type": "code",
   "execution_count": null,
   "metadata": {
    "collapsed": false
   },
   "outputs": [
    {
     "name": "stdout",
     "output_type": "stream",
     "text": [
      "cat_2_x \t 19 \t 360\n",
      "smid \t 4406417 \t Du0A6Wwvjy8Jwg6kTVFSAB9o3rrAhqrOOAIc8trWqRDLyHFFiP/ERt6QtVNIN8lEXuQrJpbXJEZW8le+Um4tAMmA\n",
      "create_time \t 3527460 \t 2018-10-11 15:59:36\n",
      "client \t 1 \t android\n",
      "package_name \t 2 \t com.meelive.ingkee\n",
      "cc \t 19 \t TG36000\n",
      "cv \t 81 \t 6.1.75\n",
      "ip \t 3018344 \t 112.40.114.44\n",
      "osversion \t 87 \t 5.1\n",
      "info_extra \t 4406199 \t {\"app_sign\":\"308203c7308202afa00302010202046aa5b23d300d06092a864886f70d01010b\",\"imei\":\"867556024274428\",\"mac\":\"74:ac:5f:36:c8:24\",\"md5\":\"55e04e3dd19f685c3e16964499140263\"}\n",
      "ymd \t 152 \t 20181011.0\n",
      "cat_2_y \t 20 \t nan\n",
      "log_ymd \t 305 \t nan\n"
     ]
    }
   ],
   "source": [
    "for i in df_log.columns:\n",
    "    print(i,'\\t',len(set(df_log[i])),'\\t',df_log[i][2])\n",
    "    gc.collect()"
   ]
  },
  {
   "cell_type": "code",
   "execution_count": 34,
   "metadata": {
    "collapsed": false
   },
   "outputs": [
    {
     "data": {
      "text/plain": [
       "'Du0A6Wwvjy8Jwg6kTVFSAB9o3rrAhqrOOAIc8trWqRDLyHFFiP/ERt6QtVNIN8lEXuQrJpbXJEZW8le+Um4tAMmA'"
      ]
     },
     "execution_count": 34,
     "metadata": {},
     "output_type": "execute_result"
    }
   ],
   "source": [
    "df_log0['smid'][2]"
   ]
  },
  {
   "cell_type": "code",
   "execution_count": null,
   "metadata": {
    "collapsed": true
   },
   "outputs": [],
   "source": []
  }
 ],
 "metadata": {
  "anaconda-cloud": {},
  "kernelspec": {
   "display_name": "Python [conda root]",
   "language": "python",
   "name": "conda-root-py"
  },
  "language_info": {
   "codemirror_mode": {
    "name": "ipython",
    "version": 3
   },
   "file_extension": ".py",
   "mimetype": "text/x-python",
   "name": "python",
   "nbconvert_exporter": "python",
   "pygments_lexer": "ipython3",
   "version": "3.5.2"
  }
 },
 "nbformat": 4,
 "nbformat_minor": 1
}
